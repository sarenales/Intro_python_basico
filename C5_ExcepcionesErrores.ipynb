{
  "nbformat": 4,
  "nbformat_minor": 0,
  "metadata": {
    "colab": {
      "provenance": [],
      "include_colab_link": true
    },
    "kernelspec": {
      "name": "python3",
      "display_name": "Python 3"
    },
    "language_info": {
      "name": "python"
    }
  },
  "cells": [
    {
      "cell_type": "markdown",
      "metadata": {
        "id": "view-in-github",
        "colab_type": "text"
      },
      "source": [
        "<a href=\"https://colab.research.google.com/github/sarenales/Intro_python_basico/blob/main/C5_ExcepcionesErrores.ipynb\" target=\"_parent\"><img src=\"https://colab.research.google.com/assets/colab-badge.svg\" alt=\"Open In Colab\"/></a>"
      ]
    },
    {
      "cell_type": "markdown",
      "source": [
        "# Excepciones en Python 🤨\n",
        "\n",
        "Las excepciones en Python son una herramienta muy potente que la gran mayoría de lenguajes de programación modernos tienen. Se trata de una forma de controlar el comportamiento de un programa cuando se produce un error.\n",
        "\n",
        "Esto es muy importante ya que salvo que tratemos este error, el programa se parará, y esto es algo que en determinadas aplicaciones no es una opción válida."
      ],
      "metadata": {
        "id": "OOLelsP5HgLJ"
      }
    },
    {
      "cell_type": "markdown",
      "source": [
        "Imaginemos que tenemos el siguiente código con dos variables a y b y realizamos su división a/b."
      ],
      "metadata": {
        "id": "pDMeOoEqHmb-"
      }
    },
    {
      "cell_type": "code",
      "execution_count": null,
      "metadata": {
        "id": "IAYBrjqTHTd4"
      },
      "outputs": [],
      "source": [
        "a = 4\n",
        "b = 2\n",
        "c = a/b\n",
        "print(c)"
      ]
    },
    {
      "cell_type": "markdown",
      "source": [
        "Pero imaginemos ahora que por cualquier motivo las variables tienen otro valor, y que por ejemplo b tiene el **valor 0**. Si intentamos hacer la división entre cero, este programa dará un error y su ejecución terminará de manera abrupta."
      ],
      "metadata": {
        "id": "kqMFRw_1Hr49"
      }
    },
    {
      "cell_type": "code",
      "source": [
        "a = 4\n",
        "b = 0\n",
        "print(a/b)\n",
        "# ZeroDivisionError: division by zero"
      ],
      "metadata": {
        "id": "iCWpmKbcHvZw",
        "colab": {
          "base_uri": "https://localhost:8080/",
          "height": 200
        },
        "outputId": "14228945-43a9-411f-d356-3f6ad1309ad9"
      },
      "execution_count": null,
      "outputs": [
        {
          "output_type": "error",
          "ename": "ZeroDivisionError",
          "evalue": "division by zero",
          "traceback": [
            "\u001b[0;31m---------------------------------------------------------------------------\u001b[0m",
            "\u001b[0;31mZeroDivisionError\u001b[0m                         Traceback (most recent call last)",
            "\u001b[0;32m<ipython-input-1-b5fd18c6694c>\u001b[0m in \u001b[0;36m<cell line: 3>\u001b[0;34m()\u001b[0m\n\u001b[1;32m      1\u001b[0m \u001b[0ma\u001b[0m \u001b[0;34m=\u001b[0m \u001b[0;36m4\u001b[0m\u001b[0;34m\u001b[0m\u001b[0;34m\u001b[0m\u001b[0m\n\u001b[1;32m      2\u001b[0m \u001b[0mb\u001b[0m \u001b[0;34m=\u001b[0m \u001b[0;36m0\u001b[0m\u001b[0;34m\u001b[0m\u001b[0;34m\u001b[0m\u001b[0m\n\u001b[0;32m----> 3\u001b[0;31m \u001b[0mprint\u001b[0m\u001b[0;34m(\u001b[0m\u001b[0ma\u001b[0m\u001b[0;34m/\u001b[0m\u001b[0mb\u001b[0m\u001b[0;34m)\u001b[0m\u001b[0;34m\u001b[0m\u001b[0;34m\u001b[0m\u001b[0m\n\u001b[0m\u001b[1;32m      4\u001b[0m \u001b[0;31m# ZeroDivisionError: division by zero\u001b[0m\u001b[0;34m\u001b[0m\u001b[0;34m\u001b[0m\u001b[0m\n",
            "\u001b[0;31mZeroDivisionError\u001b[0m: division by zero"
          ]
        }
      ]
    },
    {
      "cell_type": "markdown",
      "source": [
        "Ese “error” que decimos que ha ocurrido es lanzado por Python (raise en Inglés) ya que la división entre cero es una operación que matemáticamente no está definida.\n",
        "\n",
        "Se trata de la excepción *ZeroDivisionError*. En el siguiente [enlace](https://docs.python.org/3/library/exceptions.html), hay un listado de todas las excepciones con las que nos podemos encontrar.\n",
        "\n",
        "# Veamos un ejemplo con otra excepción.\n",
        "\n",
        "¿Que pasaría si intentásemos sumar un número con un texto? Evidentemente esto no tiene ningún sentido, y Python define una excepción para esto llamada TypeError."
      ],
      "metadata": {
        "id": "9UE3dO4BIxRt"
      }
    },
    {
      "cell_type": "code",
      "source": [
        "print(2 + \"2\")"
      ],
      "metadata": {
        "id": "H7M6wB0IJA5k",
        "colab": {
          "base_uri": "https://localhost:8080/",
          "height": 146
        },
        "outputId": "f71bdf26-5386-49f3-f091-d8ef2e497387"
      },
      "execution_count": null,
      "outputs": [
        {
          "output_type": "error",
          "ename": "TypeError",
          "evalue": "unsupported operand type(s) for +: 'int' and 'str'",
          "traceback": [
            "\u001b[0;31m---------------------------------------------------------------------------\u001b[0m",
            "\u001b[0;31mTypeError\u001b[0m                                 Traceback (most recent call last)",
            "\u001b[0;32m<ipython-input-2-96788054896b>\u001b[0m in \u001b[0;36m<cell line: 1>\u001b[0;34m()\u001b[0m\n\u001b[0;32m----> 1\u001b[0;31m \u001b[0mprint\u001b[0m\u001b[0;34m(\u001b[0m\u001b[0;36m2\u001b[0m \u001b[0;34m+\u001b[0m \u001b[0;34m\"2\"\u001b[0m\u001b[0;34m)\u001b[0m\u001b[0;34m\u001b[0m\u001b[0;34m\u001b[0m\u001b[0m\n\u001b[0m",
            "\u001b[0;31mTypeError\u001b[0m: unsupported operand type(s) for +: 'int' and 'str'"
          ]
        }
      ]
    },
    {
      "cell_type": "markdown",
      "source": [
        "En base a esto es **muy importante controlar las excepciones**, porque por muchas comprobaciones que realicemos es posible que en algún momento ocurra una, y si no se hace nada el **programa se parará**.\n",
        "\n",
        "¿Te imaginas que en un avión, un tren o un cajero automático tiene un error que lanza raise una excepción y se detiene por completo? 😟\n",
        "\n",
        "Una primera aproximación al control de excepciones podría ser el siguiente ejemplo. Podemos realizar una comprobación manual de que no estamos dividiendo por cero, para así evitar tener un error tipo *ZeroDivisionError*.\n",
        "\n",
        "Sin embargo es complicado escribir código que contemple y que prevenga todo tipo de excepciones. Para ello, veremos más adelante el uso de except."
      ],
      "metadata": {
        "id": "sBcODx_kJEnU"
      }
    },
    {
      "cell_type": "code",
      "source": [
        "a = 5\n",
        "b = 0\n",
        "# A través de esta comprobación prevenimos que se divida entre cero.\n",
        "if b!=0:\n",
        "    print(a/b)\n",
        "else:\n",
        "    print(\"No se puede dividir!\")"
      ],
      "metadata": {
        "id": "4VBa1blwJEJ5"
      },
      "execution_count": null,
      "outputs": []
    },
    {
      "cell_type": "markdown",
      "source": [
        "# Uso de raise\n",
        "\n",
        "También podemos ser nosotros los que levantemos o lancemos una excepción. Volviendo a los ejemplos usados en el apartado anterior, **podemos ser nosotros** los que levantemos *ZeroDivisionError* o *NameError* usando raise. La sintaxis es muy fácil."
      ],
      "metadata": {
        "id": "D6Ye7p7zJbGD"
      }
    },
    {
      "cell_type": "code",
      "source": [
        "raise ZeroDivisionError(\"Información de la excepción\")"
      ],
      "metadata": {
        "id": "piS7xUP0JjMR"
      },
      "execution_count": null,
      "outputs": []
    },
    {
      "cell_type": "markdown",
      "source": [
        "O podemos lanzar otra de tipo NameError."
      ],
      "metadata": {
        "id": "ngveaQwSJmIp"
      }
    },
    {
      "cell_type": "code",
      "source": [
        "raise NameError(\"Información de la excepción\")"
      ],
      "metadata": {
        "id": "JGQa6u2NJoIJ"
      },
      "execution_count": null,
      "outputs": []
    },
    {
      "cell_type": "markdown",
      "source": [
        "Visto esto, ya sabemos como una excepción puede ser lanzada. Existen dos maneras principalmente:\n",
        "\n",
        "* Hacemos una operación que no puede ser realizada (como dividir por cero). En este caso Python se encarga de lanzar automáticamente la excepción. 🐍\n",
        "* O también podemos lanzar nosotros una excepción manualmente, usando raise. 🧑"
      ],
      "metadata": {
        "id": "7ly2HPm2JvRL"
      }
    },
    {
      "cell_type": "markdown",
      "source": [
        "A continuación veremos que podemos hacer para controlar estas excepciones, y que hacer cuando se lanza una para que no se interrumpa la ejecución del programa."
      ],
      "metadata": {
        "id": "PZhxKAnxJ8uT"
      }
    },
    {
      "cell_type": "markdown",
      "source": [
        "# Uso de try y except\n",
        "\n",
        "La buena noticia es que las excepciones que hemos visto antes, pueden ser capturadas y manejadas adecuadamente, **sin que el programa se detenga**. Veamos un ejemplo con la división entre cero"
      ],
      "metadata": {
        "id": "QTXQlD7dJ-v2"
      }
    },
    {
      "cell_type": "code",
      "source": [
        "a = 5\n",
        "b = 0\n",
        "try:\n",
        "    c = a/b\n",
        "except ZeroDivisionError:\n",
        "    print(\"No se ha podido realizar la división\")"
      ],
      "metadata": {
        "id": "eB8Hj8_TJuvF"
      },
      "execution_count": null,
      "outputs": []
    },
    {
      "cell_type": "markdown",
      "source": [
        "En este caso no verificamos que b!=0. Directamente intentamos realizar la división y en el caso de que se lance la excepción ZeroDivisionError, la capturamos y la tratamos adecuadamente.\n",
        "\n",
        "La diferencia con el ejemplo anterior es que ahora **no se para el programa y se puede seguir ejecutando**. Prueba a ejecutar el código y ver que pasa. Verás como el programa ya no se para.\n",
        "\n",
        "Entonces, lo que hay dentro del try es la sección del código que podría lanzar la excepción que se está capturando en el except. Por lo tanto cuando ocurra una excepción, se entra en el except pero el programa no se para."
      ],
      "metadata": {
        "id": "OPVx8kH2KKK1"
      }
    },
    {
      "cell_type": "markdown",
      "source": [
        "También se puede capturar diferentes excepciones como se ve en el siguiente ejemplo."
      ],
      "metadata": {
        "id": "gTNOB0bNKU4u"
      }
    },
    {
      "cell_type": "code",
      "source": [
        "try:\n",
        "    #c = 5/0       # Si comentas esto entra en TypeError\n",
        "    d = 2 + \"Hola\" # Si comentas esto entra en ZeroDivisionError\n",
        "except ZeroDivisionError:\n",
        "    print(\"No se puede dividir entre cero!\")\n",
        "except TypeError:\n",
        "    print(\"Problema de tipos!\")"
      ],
      "metadata": {
        "id": "xJG1y-t7KJ57"
      },
      "execution_count": null,
      "outputs": []
    },
    {
      "cell_type": "markdown",
      "source": [
        "# Uso de else\n",
        "\n",
        "Al ya explicado try y except le podemos añadir un bloque más, el else. Dicho bloque se ejecutará si no ha ocurrido ninguna excepción. Fíjate en la diferencia entre los siguientes códigos."
      ],
      "metadata": {
        "id": "d_FGXTv-Kg6L"
      }
    },
    {
      "cell_type": "code",
      "source": [
        "try:\n",
        "    # Forzamos una excepción al dividir entre 0\n",
        "    x = 2/0\n",
        "except:\n",
        "    print(\"Entra en except, ha ocurrido una excepción\")\n",
        "else:\n",
        "    print(\"Entra en else, no ha ocurrido ninguna excepción\")\n",
        "\n",
        "#Entra en except, ha ocurrido una excepción"
      ],
      "metadata": {
        "id": "4yt8SX4vKnuE"
      },
      "execution_count": null,
      "outputs": []
    },
    {
      "cell_type": "markdown",
      "source": [
        "# Excepciones comunes en python\n",
        "\n",
        "*   *Exception*: La clase base para todas las excepciones en Python. Es la excepción de la cual todas las demás excepciones derivan.\n",
        "\n",
        "* *ArithmeticError*: Clase base para todas las excepciones aritméticas. Incluye:\n",
        "  * *ZeroDivisionError*: Se lanza cuando se intenta dividir por cero.\n",
        "  * *OverflowError*: Se lanza cuando el resultado de una operación aritmética es demasiado grande para ser representado.\n",
        "  * *FloatingPointError*: Se lanza cuando ocurre un error en una operación de punto flotante.\n",
        "\n",
        "```\n",
        "# Ejemplo de ZeroDivisionError:\n",
        "try:\n",
        "    resultado = 10 / 0\n",
        "except ZeroDivisionError:\n",
        "    print(\"¡No se puede dividir por cero!\")\n",
        "\n",
        "```\n",
        "\n",
        "*   *AttributeError*: Se lanza cuando un objeto no tiene el atributo que se intenta acceder.\n",
        "\n",
        "* KeyError: Se lanza cuando se intenta acceder a una clave que no existe en un diccionario.\n",
        "\n",
        "```\n",
        "mi_diccionario = {'nombre': 'Juan', 'edad': 25}\n",
        "try:\n",
        "    print(mi_diccionario['direccion'])\n",
        "except KeyError:\n",
        "    print(\"¡La clave 'direccion' no existe en el diccionario!\")\n",
        "\n",
        "```\n",
        "\n",
        "\n",
        "*   *ImportError*: Se lanza cuando una declaración import no encuentra el módulo que se está intentando importar.\n",
        "\n",
        "*   *IndexError*: Se lanza cuando se intenta acceder a un índice fuera del rango válido de una lista, tupla o secuencia.\n",
        "\n",
        "\n",
        "\n",
        "```\n",
        "mi_lista = [1, 2, 3]\n",
        "try:\n",
        "    print(mi_lista[5])\n",
        "except IndexError:\n",
        "    print(\"¡El índice está fuera del rango de la lista!\")\n",
        "\n",
        "```\n",
        "\n",
        "\n",
        "\n",
        "* *KeyboardInterrupt*: Se lanza cuando el usuario interrumpe la ejecución del programa con una combinación de teclas (usualmente Ctrl+C).\n",
        "\n",
        "* *MemoryError*: Se lanza cuando una operación no puede ser completada debido a la falta de memoria disponible.\n",
        "\n",
        "* *NameError*: Se lanza cuando se intenta usar una variable que no ha sido definida.\n",
        "\n",
        "* *TypeError*: Se lanza cuando una operación o función se aplica a un objeto de un tipo inapropiado.\n",
        "\n",
        "* *ValueError*: Se lanza cuando una operación o función recibe un argumento con el tipo correcto pero con un valor inapropiado.\n",
        "\n",
        "```\n",
        "try:\n",
        "    numero = int(input(\"Introduce un número: \"))\n",
        "    print(f\"El número es: {numero}\")\n",
        "except ValueError:\n",
        "    print(\"¡Eso no es un número válido!\")\n",
        "\n",
        "```\n",
        "\n",
        "\n"
      ],
      "metadata": {
        "id": "k25EkXpHNDbo"
      }
    },
    {
      "cell_type": "markdown",
      "source": [
        "# Ejercicio 1:\n",
        "Pide al usuario que introduzca dos números y luego divide el primero por el segundo. Maneja posibles excepciones como la división por cero y la entrada de valores no numéricos.\n"
      ],
      "metadata": {
        "id": "OBDeAjhUMyNa"
      }
    },
    {
      "cell_type": "code",
      "source": [
        "try:\n",
        "    num1 = float(input(\"Introduce el primer número: \"))\n",
        "    num2 = float(input(\"Introduce el segundo número: \"))\n",
        "    resultado = num1 / num2\n",
        "    print(f\"El resultado de la división es: {resultado}\")\n",
        "\n",
        "except ZeroDivisionError:\n",
        "  print(\"Error división entre 0\")\n"
      ],
      "metadata": {
        "id": "0OS118JtM8hO",
        "colab": {
          "base_uri": "https://localhost:8080/"
        },
        "outputId": "90d1d14e-002a-43d6-ab83-a686fb27d2a4"
      },
      "execution_count": null,
      "outputs": [
        {
          "output_type": "stream",
          "name": "stdout",
          "text": [
            "Introduce el primer número: 5\n",
            "Introduce el segundo número: 0\n",
            "Error división entre 0\n"
          ]
        }
      ]
    },
    {
      "cell_type": "markdown",
      "source": [
        "# Ejercicio 2: Acceder a un índice de una lista\n",
        "Crea una lista de elementos y pide al usuario que introduzca un índice para acceder a un elemento de la lista. Maneja excepciones para el caso de que el índice esté fuera del rango de la lista o la entrada no sea un número válido."
      ],
      "metadata": {
        "id": "YnnrmdS7PEEz"
      }
    },
    {
      "cell_type": "code",
      "source": [
        "elementos = [\"manzana\", \"plátano\", \"cereza\"]\n",
        "try:\n",
        "    indice = int(input(\"Introduce un índice para acceder a un elemento de la lista: \"))\n",
        "    print(f\"El elemento en el índice {indice} es: {elementos[indice]}\")\n",
        "\n",
        "except IndexError:\n",
        "  print(\"No existe esa posicion\")"
      ],
      "metadata": {
        "id": "OdaTlWb2POyg",
        "colab": {
          "base_uri": "https://localhost:8080/"
        },
        "outputId": "80dbe2e8-4a77-4fa3-c209-3fd9e26e91f9"
      },
      "execution_count": null,
      "outputs": [
        {
          "output_type": "stream",
          "name": "stdout",
          "text": [
            "Introduce un índice para acceder a un elemento de la lista: 3\n",
            "No existe esa posicion\n"
          ]
        }
      ]
    },
    {
      "cell_type": "markdown",
      "source": [
        "# Ejercicio 3: Convertir a entero\n",
        "Pide al usuario que introduzca un número y luego intenta convertirlo a un entero. Si la conversión falla, maneja la excepción."
      ],
      "metadata": {
        "id": "hHV2i-NQPWA8"
      }
    },
    {
      "cell_type": "code",
      "source": [
        "try:\n",
        "    numero = input(\"Introduce un número: \")\n",
        "    numero_entero = int(numero)\n",
        "    print(f\"El número entero es: {numero_entero}\")\n",
        "except ValueError:\n",
        "  print(\"No es compatible\")"
      ],
      "metadata": {
        "id": "mQ7p8aLHPb9F",
        "colab": {
          "base_uri": "https://localhost:8080/"
        },
        "outputId": "1e6fa093-d267-4532-a2e4-18133f1ffc60"
      },
      "execution_count": null,
      "outputs": [
        {
          "output_type": "stream",
          "name": "stdout",
          "text": [
            "Introduce un número: hola\n",
            "No es compatible\n"
          ]
        }
      ]
    }
  ]
}