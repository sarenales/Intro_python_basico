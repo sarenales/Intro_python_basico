{
  "nbformat": 4,
  "nbformat_minor": 0,
  "metadata": {
    "colab": {
      "provenance": [],
      "authorship_tag": "ABX9TyM2JN8U5X2U3Ek5i3JrtKNo",
      "include_colab_link": true
    },
    "kernelspec": {
      "name": "python3",
      "display_name": "Python 3"
    },
    "language_info": {
      "name": "python"
    }
  },
  "cells": [
    {
      "cell_type": "markdown",
      "metadata": {
        "id": "view-in-github",
        "colab_type": "text"
      },
      "source": [
        "<a href=\"https://colab.research.google.com/github/sarenales/Intro_python_basico/blob/main/C2_Introduccion(Funciones%2Carrays).ipynb\" target=\"_parent\"><img src=\"https://colab.research.google.com/assets/colab-badge.svg\" alt=\"Open In Colab\"/></a>"
      ]
    },
    {
      "cell_type": "markdown",
      "source": [
        "#  Funciones en Python 🎉 un paso a la\n",
        "\n",
        "Una función es un bloque de código que sólo se ejecuta cuando se llama.\n",
        "\n",
        "Puede pasar datos, conocidos como parámetros, a una función.\n",
        "\n",
        "Una función puede devolver datos como resultado."
      ],
      "metadata": {
        "id": "kJ295rL3pau8"
      }
    },
    {
      "cell_type": "code",
      "execution_count": null,
      "metadata": {
        "id": "XLeQcp01pVGb"
      },
      "outputs": [],
      "source": [
        "def my_function():\n",
        "  print(\"Hello from a function\")"
      ]
    },
    {
      "cell_type": "code",
      "source": [
        "my_function()"
      ],
      "metadata": {
        "colab": {
          "base_uri": "https://localhost:8080/"
        },
        "id": "H1lJTPdIpqxr",
        "outputId": "44b01b39-7119-4c2d-e0f3-83fb7c1f759d"
      },
      "execution_count": null,
      "outputs": [
        {
          "output_type": "stream",
          "name": "stdout",
          "text": [
            "Hello from a function\n"
          ]
        }
      ]
    },
    {
      "cell_type": "markdown",
      "source": [
        "La información se puede pasar a funciones como argumentos.\n",
        "\n",
        "Los argumentos se especifican después del nombre de la función, dentro del paréntesis. Puedes agregar tantos argumentos como quieras, simplemente sepáralos con una coma.\n",
        "\n",
        "El siguiente ejemplo tiene una función con un argumento (fname). Cuando se llama a la función, pasamos un nombre, que se usa dentro de la función para imprimir el nombre completo:"
      ],
      "metadata": {
        "id": "cdfjsj-zpwwz"
      }
    },
    {
      "cell_type": "code",
      "source": [
        "def my_function(fname):\n",
        "  print(fname + \" Refsnes\")   # Que va a hacer esta funcion?\n",
        "\n",
        "my_function(\"Emil\")\n",
        "my_function(\"Tobias\")\n",
        "my_function(\"Linus\")"
      ],
      "metadata": {
        "colab": {
          "base_uri": "https://localhost:8080/"
        },
        "collapsed": true,
        "id": "l2SZEyzYp3Wo",
        "outputId": "75d3107f-79df-46e4-b823-78f63d4497bc"
      },
      "execution_count": null,
      "outputs": [
        {
          "output_type": "stream",
          "name": "stdout",
          "text": [
            "Emil Refsnes\n",
            "Tobias Refsnes\n",
            "Linus Refsnes\n"
          ]
        }
      ]
    },
    {
      "cell_type": "markdown",
      "source": [
        "## ¿Parametros o Argumentos?\n",
        "Los términos parámetro y argumento se pueden usar para lo mismo: información que se pasa a una función.\n",
        "\n",
        "Desde la perspectiva de una función:\n",
        "\n",
        "Un parámetro es la variable que figura entre paréntesis en la definición de la función.\n",
        "\n",
        "Un argumento es el valor que se envía a la función cuando se llama."
      ],
      "metadata": {
        "id": "l1izgLsYp9_g"
      }
    },
    {
      "cell_type": "code",
      "source": [
        "def my_function(fname): # parametro\n",
        "  print(fname + \" Refsnes\")\n",
        "\n",
        "my_function(\"Emil\") # argumento"
      ],
      "metadata": {
        "id": "Gt1irV_XqIYx"
      },
      "execution_count": null,
      "outputs": []
    },
    {
      "cell_type": "markdown",
      "source": [
        "## Número de argumentos\n",
        "De forma predeterminada, se debe llamar a una función con la cantidad correcta de argumentos. Lo que significa que si su función espera 2 argumentos, debe llamar a la función con 2 argumentos, ni más ni menos."
      ],
      "metadata": {
        "id": "0kEV1SiHqPDs"
      }
    },
    {
      "cell_type": "code",
      "source": [
        "def my_function(fname, lname):  # esta funcion espera 2 parametros\n",
        "  print(fname + \" \" + lname)\n",
        "\n",
        "my_function(\"Emil\", \"Refsnes\")  # se le pasa 2 argumentos"
      ],
      "metadata": {
        "id": "nWjHpAh1qZGn"
      },
      "execution_count": null,
      "outputs": []
    },
    {
      "cell_type": "markdown",
      "source": [
        "## Argumentos arbritrarios, *args\n",
        "\n",
        "Si no sabe cuántos argumentos se pasarán a su función, se agrega un * antes del nombre del parámetro en la definición de la función.\n",
        "\n",
        "De esta manera, la función recibirá una tupla de argumentos y podrá acceder a los elementos en consecuencia:"
      ],
      "metadata": {
        "id": "ijDj2xEKqnyc"
      }
    },
    {
      "cell_type": "code",
      "source": [
        "def my_function(*kids):\n",
        "  print(\"The youngest child is \" + kids[2])  # accede a Linus\n",
        "\n",
        "my_function(\"Emil\", \"Tobias\", \"Linus\")"
      ],
      "metadata": {
        "colab": {
          "base_uri": "https://localhost:8080/"
        },
        "id": "MWoHLKabqwzi",
        "outputId": "0a60342a-ffe6-46de-96df-87d5f611c2c7"
      },
      "execution_count": null,
      "outputs": [
        {
          "output_type": "stream",
          "name": "stdout",
          "text": [
            "The youngest child is Linus\n"
          ]
        }
      ]
    },
    {
      "cell_type": "markdown",
      "source": [
        "## Pasando una Lista como argumento\n",
        "\n",
        "Puede enviar cualquier tipo de argumento de datos a una función (cadena, número, lista, diccionario, etc.) y será tratado como el mismo tipo de datos dentro de la función.\n",
        "\n",
        "Por ejemplo, si envía una *Lista* como argumento, seguirá siendo una Lista cuando llegue a la función:"
      ],
      "metadata": {
        "id": "2jbP4tA_rQhn"
      }
    },
    {
      "cell_type": "code",
      "source": [
        "def my_function(food):\n",
        "  for x in food:\n",
        "    print(x)\n",
        "\n",
        "fruits = [\"apple\", \"banana\", \"cherry\"]\n",
        "\n",
        "my_function(fruits)"
      ],
      "metadata": {
        "id": "Ln6klonbrbVR"
      },
      "execution_count": null,
      "outputs": []
    },
    {
      "cell_type": "markdown",
      "source": [
        "## Valor RETURN\n",
        "Para permitir que una función devuelva un valor, utilice la declaración de retorno/return. A veces no nos interesa imprimir todo el rato por pantalla, solamente queremos que se calcule un valor y se nos devuelva ese valor."
      ],
      "metadata": {
        "id": "kR5ZbVJcreK2"
      }
    },
    {
      "cell_type": "code",
      "source": [
        "def my_function(x):\n",
        "  return 5 * x\n",
        "\n",
        "print(my_function(3))\n",
        "print(my_function(5))\n",
        "print(my_function(9))"
      ],
      "metadata": {
        "id": "NtUfDsO_rxPb"
      },
      "execution_count": null,
      "outputs": []
    },
    {
      "cell_type": "markdown",
      "source": [
        "# Ejercicios funciones 🙂"
      ],
      "metadata": {
        "id": "pq5Ba3s5sC_t"
      }
    },
    {
      "cell_type": "markdown",
      "source": [
        "## Ejercicio 1: Suma de dos números\n",
        "Escribe una **función** que tome dos números como parámetros y devuelva su suma."
      ],
      "metadata": {
        "id": "NXvKGHB8sGnR"
      }
    },
    {
      "cell_type": "code",
      "source": [
        "def suma():# TODO\n",
        "\n",
        "\n",
        "resultado = suma(3, 5)\n",
        "print(f\"La suma de 3 y 5 es: {resultado}\")"
      ],
      "metadata": {
        "id": "F68ACD12sF2O"
      },
      "execution_count": null,
      "outputs": []
    },
    {
      "cell_type": "markdown",
      "source": [
        "## Ejercicio 2: Conversión de Grados Celsius a Fahrenheit\n",
        "Escribe una función que convierta una temperatura dada en grados Celsius a grados Fahrenheit. Para convertir de Celsius a Fahrenheit hay que multiplicar por 9, luego dividir entre 5 y a esto sumarle 32."
      ],
      "metadata": {
        "id": "yiIeM7QwsRsn"
      }
    },
    {
      "cell_type": "code",
      "source": [
        "def celsius_a_fahrenheit(): #TODO\n",
        "\n",
        "\n",
        "celsius = 25\n",
        "print(f\"{celsius} grados Celsius son {celsius_a_fahrenheit(celsius)} grados Fahrenheit\")"
      ],
      "metadata": {
        "id": "znvV8ZVpsj4W"
      },
      "execution_count": null,
      "outputs": []
    },
    {
      "cell_type": "markdown",
      "source": [
        "## Ejercicio3: Mayor de tres números\n",
        "Escribe una función que tome tres números como parámetros y devuelva el mayor de ellos."
      ],
      "metadata": {
        "id": "yiW9YTQjs3MB"
      }
    },
    {
      "cell_type": "code",
      "source": [
        "def mayor_de_tres(): #TODO\n",
        "\n",
        "\n",
        "print(f\"El mayor de 3, 7 y 5 es: {mayor_de_tres(3, 7, 5)}\")"
      ],
      "metadata": {
        "id": "tRDId0XSs8V_"
      },
      "execution_count": null,
      "outputs": []
    },
    {
      "cell_type": "markdown",
      "source": [
        "## Ejercicio 4: Encontrar vocales en una cadena\n",
        "Escribe una función que tome una cadena como parámetro y cuente cuántas vocales contiene."
      ],
      "metadata": {
        "id": "i3R_FRwOtF3E"
      }
    },
    {
      "cell_type": "code",
      "source": [
        "def contar_vocales(): # TODO\n",
        "\n",
        "\n",
        "\n",
        "cadena = \"Hola Mundo\"\n",
        "print(f\"La cadena '{cadena}' tiene {contar_vocales(cadena)} vocales\")"
      ],
      "metadata": {
        "id": "9msHhUi1tFcQ"
      },
      "execution_count": null,
      "outputs": []
    },
    {
      "cell_type": "markdown",
      "source": [
        "# Colecciones en Python ✨\n",
        "\n",
        "Hay cuatro tipos de datos de recopilación en el lenguaje de programación Python:\n",
        "\n",
        "* La **lista/array** es una colección ordenada y modificable. Permite miembros duplicados.\n",
        "* **Tupla** es una colección ordenada e inmutable. Permite miembros duplicados.\n",
        "* **Set/conjunto** es una colección desordenada, inmutable y no indexada. No hay miembros duplicados.\n",
        "* El **diccionario** es una colección ordenada y modificable. No hay miembros duplicados."
      ],
      "metadata": {
        "id": "DDZxUmR7Kapd"
      }
    },
    {
      "cell_type": "markdown",
      "source": [
        "# Arrays/Listas en Python\n",
        "\n",
        "Los arrays o las listas se utilizan para almacenar múltiples valores en una sola variable:"
      ],
      "metadata": {
        "id": "oCZgfNQctW0f"
      }
    },
    {
      "cell_type": "code",
      "source": [
        "list1 = [\"abc\", 34, True, 40, \"male\"] # pueden ser de diferentes tipos --> esto solo en python"
      ],
      "metadata": {
        "id": "qCAdEdlwHPb7"
      },
      "execution_count": null,
      "outputs": []
    },
    {
      "cell_type": "code",
      "source": [
        "cars = [\"Ford\", \"Volvo\", \"BMW\"]"
      ],
      "metadata": {
        "id": "3qbv4pZvxMyW"
      },
      "execution_count": null,
      "outputs": []
    },
    {
      "cell_type": "markdown",
      "source": [
        "### Acceso a un elemento de la lista"
      ],
      "metadata": {
        "id": "lrdi-FUSxVDo"
      }
    },
    {
      "cell_type": "code",
      "source": [
        "cars[0] # accede aquel en la posicion 0"
      ],
      "metadata": {
        "id": "tytHiOCbxUtL"
      },
      "execution_count": null,
      "outputs": []
    },
    {
      "cell_type": "code",
      "source": [
        "cars[-1] # accede al ultimo"
      ],
      "metadata": {
        "id": "sn_D2SS_BIAq"
      },
      "execution_count": null,
      "outputs": []
    },
    {
      "cell_type": "code",
      "source": [
        "cars[1:3] # accede desde la posicion 1 contando este, hasta la posicion 3 sin contarlo"
      ],
      "metadata": {
        "id": "6hQRHwNLBqnQ"
      },
      "execution_count": null,
      "outputs": []
    },
    {
      "cell_type": "code",
      "source": [
        "cars[1:] # desde el 1 hasta el final"
      ],
      "metadata": {
        "id": "lmtlfMgHByWM"
      },
      "execution_count": null,
      "outputs": []
    },
    {
      "cell_type": "code",
      "source": [
        "cars[:2] # desde el inicio hasta la posicion 2, no se cuenta el 2"
      ],
      "metadata": {
        "id": "sVH63r-6B1mO"
      },
      "execution_count": null,
      "outputs": []
    },
    {
      "cell_type": "markdown",
      "source": [
        "### Modificar un valor de la lista"
      ],
      "metadata": {
        "id": "8j-14HUexZCw"
      }
    },
    {
      "cell_type": "code",
      "source": [
        "cars[0] = \"Toyota\""
      ],
      "metadata": {
        "id": "yJfl_GbAxd-R"
      },
      "execution_count": null,
      "outputs": []
    },
    {
      "cell_type": "code",
      "source": [
        "cars[2:4] = [\"Mercedes\", \"Seat\"]"
      ],
      "metadata": {
        "id": "2qj4koGuCkSp"
      },
      "execution_count": null,
      "outputs": []
    },
    {
      "cell_type": "markdown",
      "source": [
        "### Para saber la longitud de la lista\n",
        "La longitud de una lista es siempre uno más que el índice de lista más alto."
      ],
      "metadata": {
        "id": "lHqtJc_ZxglH"
      }
    },
    {
      "cell_type": "code",
      "source": [
        "x = len(cars)"
      ],
      "metadata": {
        "id": "0hLS6ZH3xkWN"
      },
      "execution_count": null,
      "outputs": []
    },
    {
      "cell_type": "markdown",
      "source": [
        "### Recorrer una lista\n",
        "Puede utilizar el bucle for in para recorrer todos los elementos de una lista."
      ],
      "metadata": {
        "id": "L7D6fgq2xvx1"
      }
    },
    {
      "cell_type": "code",
      "source": [
        "for x in cars: # recorre cada coche\n",
        "  print(x)"
      ],
      "metadata": {
        "id": "u34T9AZwxyFk"
      },
      "execution_count": null,
      "outputs": []
    },
    {
      "cell_type": "markdown",
      "source": [
        "### Añadir elementos a la lista\n"
      ],
      "metadata": {
        "id": "TRkSPu9Gx7FG"
      }
    },
    {
      "cell_type": "code",
      "source": [
        "cars.append(\"Honda\") # Se añade en la última posición."
      ],
      "metadata": {
        "id": "dMUrtIR6yEXm"
      },
      "execution_count": null,
      "outputs": []
    },
    {
      "cell_type": "code",
      "source": [
        "cars.insert(2, \"Tesla\")"
      ],
      "metadata": {
        "id": "b3EBZhcXDFBZ"
      },
      "execution_count": null,
      "outputs": []
    },
    {
      "cell_type": "code",
      "source": [
        "cars2 = [\"Skoda\", \"Ford\"]\n",
        "cars.extend(cars2)"
      ],
      "metadata": {
        "id": "aWuk5C4tDVOT"
      },
      "execution_count": null,
      "outputs": []
    },
    {
      "cell_type": "code",
      "source": [
        "cars3 = [\"Porche\", \"Ferrari\", \"Aston Martin\"]\n",
        "cars = cars + cars3"
      ],
      "metadata": {
        "id": "Ssw9beOeEqdM"
      },
      "execution_count": null,
      "outputs": []
    },
    {
      "cell_type": "markdown",
      "source": [
        "### Eliminando un elemento de la lista"
      ],
      "metadata": {
        "id": "iq01XK15yHYd"
      }
    },
    {
      "cell_type": "code",
      "source": [
        "cars.pop(1) # se elimina el coche de la posición 1"
      ],
      "metadata": {
        "id": "c7lbWfmvyN_B"
      },
      "execution_count": null,
      "outputs": []
    },
    {
      "cell_type": "code",
      "source": [
        "cars.remove(\"Volvo\") # se elimina \"Volvo\""
      ],
      "metadata": {
        "id": "9A6eEZ29yTLZ"
      },
      "execution_count": null,
      "outputs": []
    },
    {
      "cell_type": "markdown",
      "source": [
        "## Tabla resumen de funciones listas en python"
      ],
      "metadata": {
        "id": "FB6bOaUTDls1"
      }
    },
    {
      "cell_type": "markdown",
      "source": [
        "| Método  | Descripción         |\n",
        "|---------|---------------------|\n",
        "|append()\t| Añade un elemento al final de la lista|\n",
        "|clear()\t| Elimina todos los elementos de una lista|\n",
        "|copy()\t  | Devuelve una copia de una lista|\n",
        "|count()\t| Devuelve el cantidad de elementos que hay en la lista|\n",
        "|extend()\t| Añade elementos de una lista al final de otra lista|\n",
        "|index()\t| Devuelve el índice del primer elemento con el valor especificado.|\n",
        "|insert()\t| Agrega un elemento en la posición especificada|\n",
        "|pop()\t  | Elimina el elemento en la posición especificada|\n",
        "|remove()\t| Elimina el primer elemento con el valor especificado|\n",
        "|reverse()| Invierte el orden de la lista|\n",
        "|sort()\t  | Ordena la lista|"
      ],
      "metadata": {
        "id": "ItzuwS0_yYEq"
      }
    },
    {
      "cell_type": "markdown",
      "source": [
        "https://www.w3schools.com/python/exercise.asp?filename=exercise_lists1"
      ],
      "metadata": {
        "id": "4J0O4zDKFO9s"
      }
    },
    {
      "cell_type": "markdown",
      "source": [
        "# Ejercicios Arrays"
      ],
      "metadata": {
        "id": "qmE_Zq-x3THu"
      }
    },
    {
      "cell_type": "markdown",
      "source": [
        "## Ejercicio 1: Concatenar Dos Listas\n",
        "Escribe una función que tome dos listas y las combine en una sola lista."
      ],
      "metadata": {
        "id": "fTmMzmDd3do4"
      }
    },
    {
      "cell_type": "code",
      "source": [
        "def concatenar_listas(): #TODO\n",
        "\n",
        "\n",
        "lista1 = [1, 2, 3]\n",
        "lista2 = [4, 5, 6]\n",
        "print(f\"La concatenación de {lista1} y {lista2} es: {concatenar_listas(lista1, lista2)}\")"
      ],
      "metadata": {
        "id": "1Om1t2rg3W-9"
      },
      "execution_count": null,
      "outputs": []
    },
    {
      "cell_type": "markdown",
      "source": [
        "## Ejercicio 2: Ordenar una Lista\n",
        "Escribe una función que tome una lista de números y devuelva la lista ordenada en orden ascendente."
      ],
      "metadata": {
        "id": "5K0QMasn3mJi"
      }
    },
    {
      "cell_type": "code",
      "source": [
        "def ordenar_lista(): # TODO\n",
        "\n",
        "\n",
        "\n",
        "\n",
        "numeros = [5, 2, 9, 1, 5, 6]\n",
        "print(f\"La lista {numeros} ordenada es: {ordenar_lista(numeros)}\")"
      ],
      "metadata": {
        "id": "HcusrSu33tBu"
      },
      "execution_count": null,
      "outputs": []
    },
    {
      "cell_type": "markdown",
      "source": [
        "## Ejercicio 3: Eliminar duplicados y mantener el orden\n",
        "Escribe una función que tome una lista y elimine los elementos duplicados, manteniendo el orden original de los elementos."
      ],
      "metadata": {
        "id": "kfFg7O0_4E_m"
      }
    },
    {
      "cell_type": "code",
      "source": [
        "def eliminar_duplicados_mantener_orden(): #TODO\n",
        "\n",
        "\n",
        "\n",
        "\n",
        "numeros = [1, 2, 3, 1, 2, 4, 5]\n",
        "print(f\"La lista {numeros} sin duplicados (manteniendo el orden) es: {eliminar_duplicados_mantener_orden(numeros)}\")"
      ],
      "metadata": {
        "id": "yBdlFxbr4Inj"
      },
      "execution_count": null,
      "outputs": []
    },
    {
      "cell_type": "markdown",
      "source": [
        "## Ejercicio 4: Encontrar pares en una lista quesuman un número dado\n",
        "Escribe una función que tome una lista de números y un número objetivo, y devuelva una lista de pares de números que sumen el número objetivo."
      ],
      "metadata": {
        "id": "XgudhFmE4XU6"
      }
    },
    {
      "cell_type": "code",
      "source": [
        "def encontrar_pares(lista, objetivo):\n",
        "    #TODO\n",
        "\n",
        "numeros = [1, 2, 3, 4, 5, 6]\n",
        "objetivo = 7\n",
        "print(f\"Los pares en {numeros} que suman {objetivo} son: {encontrar_pares(numeros, objetivo)}\")"
      ],
      "metadata": {
        "id": "mh-XyfZu4eaD"
      },
      "execution_count": null,
      "outputs": []
    },
    {
      "cell_type": "markdown",
      "source": [],
      "metadata": {
        "id": "u19II0Dn9scO"
      }
    },
    {
      "cell_type": "markdown",
      "source": [
        "# Tuplas en Python\n",
        "\n",
        "Las tuplas se utilizan para almacenar varios elementos en una sola variable.\n",
        "\n",
        "Tuple es uno de los 4 tipos de datos integrados en Python que se utilizan para almacenar colecciones de datos; los otros 3 son Lista (lista/arrray), Conjunto (set) y Diccionario (dict), todos con diferentes cualidades y usos.\n",
        "\n",
        "**Una tupla es una colección ordenada y no se puede modificar !!!**\n",
        "\n",
        "Las tuplas se escriben entre paréntesis."
      ],
      "metadata": {
        "id": "PSwUoMsrF-Kg"
      }
    },
    {
      "cell_type": "markdown",
      "source": [
        "Características:\n",
        "* **Inmutabilidad**: Una vez creada, los elementos de una tupla no pueden ser modificados (ni añadidos, eliminados o cambiados).\n",
        "* **Ordenadas**: Los elementos tienen un orden definido que no cambia.\n",
        "* **Heterogéneas**: Pueden contener elementos de diferentes tipos (enteros, cadenas, listas, etc.)."
      ],
      "metadata": {
        "id": "iYj0HrfWIaQA"
      }
    },
    {
      "cell_type": "markdown",
      "source": [
        "## Sintaxis de las tuplas.\n",
        "\n",
        "Las tuplas se definen utilizando paréntesis () y los elementos se separan por comas."
      ],
      "metadata": {
        "id": "jamwsTesIoei"
      }
    },
    {
      "cell_type": "code",
      "source": [
        "# Crear una tupla vacía\n",
        "tupla_vacia = ()\n",
        "\n",
        "# Crear una tupla con un solo elemento (nota la coma al final)\n",
        "tupla_un_elemento = (1,)\n",
        "\n",
        "# Crear una tupla con múltiples elementos\n",
        "tupla_varios_elementos = (1, 2, 3, \"hola\", True)\n",
        "\n",
        "print(tupla_vacia)  # Salida: ()\n",
        "print(tupla_un_elemento)  # Salida: (1,)\n",
        "print(tupla_varios_elementos)  # Salida: (1, 2, 3, 'hola', True)"
      ],
      "metadata": {
        "colab": {
          "base_uri": "https://localhost:8080/"
        },
        "id": "UN2q8LPbIZuB",
        "outputId": "420cefe9-df64-4095-f6f7-7c8702eee890"
      },
      "execution_count": null,
      "outputs": [
        {
          "output_type": "stream",
          "name": "stdout",
          "text": [
            "()\n",
            "(1,)\n",
            "(1, 2, 3, 'hola', True)\n"
          ]
        }
      ]
    },
    {
      "cell_type": "markdown",
      "source": [
        "## Acceder a Elementos en una Tupla\n",
        "Los elementos de una tupla se pueden acceder utilizando índices, igual que en las listas. Los índices comienzan desde 0."
      ],
      "metadata": {
        "id": "1U3FSTuOIz3a"
      }
    },
    {
      "cell_type": "code",
      "source": [
        "tupla = (10, 20, 30, 40, 50)\n",
        "\n",
        "# Acceder al primer elemento\n",
        "print(tupla[0])  # Salida: 10\n",
        "\n",
        "# Acceder al tercer elemento\n",
        "print(tupla[2])  # Salida: 30\n",
        "\n",
        "# Acceder al último elemento\n",
        "print(tupla[-1])  # Salida: 50"
      ],
      "metadata": {
        "id": "FHx76YqRI2Kq"
      },
      "execution_count": null,
      "outputs": []
    },
    {
      "cell_type": "markdown",
      "source": [
        "## Operaciones Comunes con Tuplas\n",
        "\n",
        "### Desempaquetado de Tuplas\n",
        "El desempaquetado de tuplas permite asignar los elementos de una tupla a múltiples variables."
      ],
      "metadata": {
        "id": "TyPZD8v9I5GV"
      }
    },
    {
      "cell_type": "code",
      "source": [
        "tupla = (1, 2, 3)\n",
        "a, b, c = tupla\n",
        "\n",
        "print(a)  # Salida: 1\n",
        "print(b)  # Salida: 2\n",
        "print(c)  # Salida: 3"
      ],
      "metadata": {
        "id": "DmCsk-gOI-YG"
      },
      "execution_count": null,
      "outputs": []
    },
    {
      "cell_type": "markdown",
      "source": [
        "### Concatenación de Tuplas\n",
        "Puedes concatenar dos o más tuplas utilizando el operador +."
      ],
      "metadata": {
        "id": "TXPRfSVwJAtv"
      }
    },
    {
      "cell_type": "code",
      "source": [
        "tupla1 = (1, 2, 3)\n",
        "tupla2 = (4, 5, 6)\n",
        "tupla_concatenada = tupla1 + tupla2\n",
        "\n",
        "print(tupla_concatenada)  # Salida: (1, 2, 3, 4, 5, 6)"
      ],
      "metadata": {
        "id": "IG88tQ3DJDxL"
      },
      "execution_count": null,
      "outputs": []
    },
    {
      "cell_type": "markdown",
      "source": [
        "### Repetición de Tuplas\n",
        "Puedes repetir los elementos de una tupla utilizando el operador *."
      ],
      "metadata": {
        "id": "V5sm4UscJF1Z"
      }
    },
    {
      "cell_type": "code",
      "source": [
        "tupla = (1, 2, 3)\n",
        "tupla_repetida = tupla * 2\n",
        "\n",
        "print(tupla_repetida)  # Salida: (1, 2, 3, 1, 2, 3)"
      ],
      "metadata": {
        "id": "3iyO1riNJGW2"
      },
      "execution_count": null,
      "outputs": []
    },
    {
      "cell_type": "markdown",
      "source": [
        "### Sub-tuplas\n",
        "Puedes obtener una sub-tupla utilizando la notación de slicing."
      ],
      "metadata": {
        "id": "ZXMvEgwNJLCe"
      }
    },
    {
      "cell_type": "code",
      "source": [
        "tupla = (0, 1, 2, 3, 4, 5)\n",
        "\n",
        "# Sub-tupla con los elementos del indice 1 al 3 (excluyendo el 4)\n",
        "sub_tupla = tupla[1:4]\n",
        "\n",
        "print(sub_tupla)  # Salida: (1, 2, 3)"
      ],
      "metadata": {
        "id": "GAs4WsP1JN0t"
      },
      "execution_count": null,
      "outputs": []
    },
    {
      "cell_type": "markdown",
      "source": [
        "### Longitud de una Tupla\n",
        "Puedes obtener el número de elementos en una tupla utilizando la función len()."
      ],
      "metadata": {
        "id": "IXexF7haJRpR"
      }
    },
    {
      "cell_type": "code",
      "source": [
        "tupla = (1, 2, 3, 4, 5)\n",
        "print(len(tupla))  # Salida: 5\n"
      ],
      "metadata": {
        "id": "tBBLO9wDJRJc"
      },
      "execution_count": null,
      "outputs": []
    },
    {
      "cell_type": "markdown",
      "source": [
        "## Métodos de tuplas\n",
        "Las tuplas tienen métodos limitados debido a su inmutabilidad. Los métodos más comunes son:\n",
        "\n",
        "* count(x): Devuelve el número de veces que el elemento x aparece en la tupla.\n",
        "* index(x): Devuelve el índice de la primera aparición del elemento x en la tupla."
      ],
      "metadata": {
        "id": "lWiQDiakJUIZ"
      }
    },
    {
      "cell_type": "code",
      "source": [
        "tupla = (1, 2, 2, 3, 4, 2)\n",
        "\n",
        "# Contar cuantas veces aparece el numero 2\n",
        "print(tupla.count(2))  # Salida: 3\n",
        "\n",
        "# Encontrar el índice del primer numero 3\n",
        "print(tupla.index(3))  # Salida: 3"
      ],
      "metadata": {
        "id": "ukK81n1jJbUh"
      },
      "execution_count": null,
      "outputs": []
    },
    {
      "cell_type": "markdown",
      "source": [
        "# Ejercicios Tuplas"
      ],
      "metadata": {
        "id": "TmyO3krJJsFL"
      }
    },
    {
      "cell_type": "code",
      "source": [],
      "metadata": {
        "id": "kRk06Ye4Jt6t"
      },
      "execution_count": null,
      "outputs": []
    },
    {
      "cell_type": "markdown",
      "source": [
        "# Tuplas 🆚 Listas\n",
        "Las listas y las tuplas son ambas estructuras de datos utilizadas en Python para almacenar colecciones de elementos, pero tienen algunas diferencias clave que influyen en cuándo y cómo deben ser usadas.\n",
        "\n",
        "* Tuplas:\n",
        "  * **Son inmutables**, lo que significa que una vez creadas, no pueden ser modificadas (no se pueden cambiar, añadir ni eliminar elementos).\n",
        "  * Generalmente son **más rápidas** que las listas debido a su inmutabilidad. Esto puede hacer que las tuplas sean más eficientes en términos de tiempo y espacio cuando se usan como estructuras de datos inmutables.\n",
        "  * Son ideales para datos constantes que no necesitan ser modificados.\n",
        "\n",
        "* Listas:\n",
        "  * Son mutables, lo que significa que pueden ser modificadas después de su creación (se pueden cambiar, añadir y eliminar elementos).\n",
        "  * Almacenar colecciones de datos homogéneos (mismos tipos de datos en una estructura).\n",
        "  * Realizar operaciones donde se necesita modificar, ordenar o filtrar los datos."
      ],
      "metadata": {
        "id": "nSQ6KHKPJuda"
      }
    },
    {
      "cell_type": "markdown",
      "source": [
        "# Diccionarios en python\n",
        "\n",
        "Un diccionario es una estructura de datos en Python que almacena pares de clave-valor. Es una colección no ordenada y mutable que permite almacenar y recuperar datos de manera eficiente utilizando claves únicas.\n",
        "\n",
        "## Características:\n",
        "* Claves únicas: Cada clave en un diccionario debe ser única.\n",
        "* Mutables: Los diccionarios pueden ser modificados después de su creación (se pueden añadir, eliminar y cambiar elementos).\n",
        "\n"
      ],
      "metadata": {
        "id": "Bn3yDLaQPyz9"
      }
    },
    {
      "cell_type": "code",
      "source": [
        "# Crear un diccionario vacío\n",
        "mi_diccionario = {}\n",
        "\n",
        "# Crear un diccionario con elementos\n",
        "mi_diccionario = {\n",
        "    \"nombre\": \"Juan\",\n",
        "    \"edad\": 30,\n",
        "    \"ciudad\": \"Madrid\"\n",
        "}\n",
        "print(mi_diccionario)"
      ],
      "metadata": {
        "id": "gGw19TLuP1JM"
      },
      "execution_count": null,
      "outputs": []
    },
    {
      "cell_type": "markdown",
      "source": [
        "## Acceder a valores en un diccionario\n",
        "Utilizando sus claves"
      ],
      "metadata": {
        "id": "Bm-RdOBASj26"
      }
    },
    {
      "cell_type": "code",
      "source": [
        "mi_diccionario = {\"nombre\": \"Juan\", \"edad\": 30, \"ciudad\": \"Madrid\"}\n",
        "\n",
        "# Acceder al valor asociado con la clave 'nombre'\n",
        "print(mi_diccionario[\"nombre\"])  # Salida: Juan\n",
        "\n",
        "# Acceder al valor asociado con la clave 'edad'\n",
        "print(mi_diccionario[\"edad\"])  # Salida: 30"
      ],
      "metadata": {
        "id": "lhWcp1huSpFy"
      },
      "execution_count": null,
      "outputs": []
    },
    {
      "cell_type": "markdown",
      "source": [
        "## Métodos útiles\n",
        "\n",
        "* keys(): Devuelve una vista de las claves del diccionario.\n",
        "* values(): Devuelve una vista de los valores del diccionario.\n",
        "* items(): Devuelve una vista de los pares clave-valor (como tuplas)."
      ],
      "metadata": {
        "id": "ZM0_xB8mSvH7"
      }
    },
    {
      "cell_type": "code",
      "source": [
        "mi_diccionario = {\"nombre\": \"Juan\", \"edad\": 30, \"ciudad\": \"Madrid\"}\n",
        "\n",
        "print(mi_diccionario.keys())   # Salida: dict_keys(['nombre', 'edad', 'ciudad'])\n",
        "print(mi_diccionario.values()) # Salida: dict_values(['Juan', 30, 'Madrid'])\n",
        "print(mi_diccionario.items())  # Salida: dict_items([('nombre', 'Juan'), ('edad', 30), ('ciudad', 'Madrid')])"
      ],
      "metadata": {
        "id": "G5_56FxeS1Mb"
      },
      "execution_count": null,
      "outputs": []
    },
    {
      "cell_type": "markdown",
      "source": [
        "# Ejercicios Diccionarios\n"
      ],
      "metadata": {
        "id": "oFkkUoitTRPn"
      }
    },
    {
      "cell_type": "markdown",
      "source": [
        "## Ejercicio 1: Traductor de Palabras\n",
        "Escribe un programa que funcione como un pequeño traductor de palabras utilizando un diccionario"
      ],
      "metadata": {
        "id": "G_VW34EiTT9k"
      }
    },
    {
      "cell_type": "code",
      "source": [
        "traductor = {\n",
        "    \"hello\": \"hola\",\n",
        "    \"world\": \"mundo\",\n",
        "    \"computer\": \"computadora\"\n",
        "}\n",
        "# Entrada: \"hello\"\n",
        "# Salida esperada: \"hola\"\n",
        "\n",
        "palabra = input(\"Introduce una palabra en inglés: \")\n",
        "\n",
        "# TODO\n"
      ],
      "metadata": {
        "id": "C9gc2pJRTYjX"
      },
      "execution_count": null,
      "outputs": []
    }
  ]
}