{
  "cells": [
    {
      "cell_type": "markdown",
      "metadata": {
        "id": "view-in-github",
        "colab_type": "text"
      },
      "source": [
        "<a href=\"https://colab.research.google.com/github/sarenales/Intro_python_basico/blob/main/C1_Introduccion.ipynb\" target=\"_parent\"><img src=\"https://colab.research.google.com/assets/colab-badge.svg\" alt=\"Open In Colab\"/></a>"
      ]
    },
    {
      "cell_type": "markdown",
      "source": [
        "# PROGRAMACIÓN EN PYTHON 🐍\n",
        "\n",
        "\n",
        "\n",
        "## Importancia de Python\n",
        "1. Facilidad de Aprendizaje:\n",
        "  * Sintaxis Sencilla ✅\n",
        "  * Amplia Documentación 📚\n",
        "  * Comunidad Activa ([Ranking](https://www.tiobe.com/tiobe-index/)) 🌍\n",
        "\n",
        "2. Versatilidad\n",
        "  * Multiplataforma\n",
        "  * Uso General\n",
        "\n",
        "3. Aplicaciones\n",
        "  * Desarrollo Web\n",
        "  * Ciencia de Datos y Machine Learning\n",
        "  * Automatización\n",
        "  * Desarrollo de Juegos\n",
        "  * Internet de las Cosas (IoT)\n",
        "\n",
        "\n",
        "## Caracteristicas de Python\n",
        "1. **Lenguaje Interpretado**: el código se ejecuta línea por línea sin necesidad de compilación previa. Esto facilita la detección y corrección de errores.\n",
        "\n",
        "2. **Tipado Dinámico** : No es necesario declarar el tipo de variable explícitamente.\n",
        "\n",
        "3. **Multiparadigma**:\n",
        "  * Procedural: Python permite escribir código en un estilo procedural, utilizando funciones y secuencias de instrucciones.\n",
        "  ```\n",
        "  def saludo(nombre):\n",
        "      print(f\"Hola, {nombre}\")\n",
        "  saludo(\"Mundo\")\n",
        "  ```\n",
        "  * Orientado a Objetos (POO): Python soporta plenamente la POO, permitiendo definir clases, crear objetos y usar principios como la herencia y el polimorfismo.\n",
        "  ```\n",
        "  class Perro:\n",
        "      def __init__(self, nombre, edad):\n",
        "          self.nombre = nombre\n",
        "          self.edad = edad\n",
        "      def ladrar(self):\n",
        "          print(\"¡Guau!\")\n",
        "  mi_perro = Perro(\"Rex\", 2)\n",
        "  mi_perro.ladrar()\n",
        "  ```\n",
        "  * Funcional: Permite usar funciones de orden superior y operaciones como map, filter y reduce.\n",
        "  ```\n",
        "  def cuadrado(x):\n",
        "      return x * x\n",
        "  numeros = [1, 2, 3, 4]\n",
        "  cuadrados = list(map(cuadrado, numeros))\n",
        "  ```\n",
        "  * Programación Declarativa: De forma libre.\n",
        "  ```\n",
        "  # Uso de SQLAlchemy para realizar consultas a bases de datos\n",
        "  from sqlalchemy import create_engine, Table, MetaData\n",
        "  engine = create_engine('sqlite:///mi_base_de_datos.db')\n",
        "  metadata = MetaData(bind=engine)\n",
        "  usuarios = Table('usuarios', metadata, autoload=True)\n",
        "  conn = engine.connect()\n",
        "  select_stmt = usuarios.select()\n",
        "  resultados = conn.execute(select_stmt)\n",
        "  for row in resultados:\n",
        "      print(row)\n",
        "  ```\n",
        "4. Gran Cantidad de Paquetes y Librerías\n",
        "\n",
        "\n"
      ],
      "metadata": {
        "id": "rYbcoiCKqUAf"
      }
    },
    {
      "cell_type": "markdown",
      "source": [
        "# Sintaxis en Python 📑"
      ],
      "metadata": {
        "id": "O6Xb9t-8tlXN"
      }
    },
    {
      "cell_type": "markdown",
      "source": [
        "## Indentación en Python\n",
        "\n",
        "La sangría se refiere a los espacios al comienzo de una línea de código.\n",
        "\n",
        "Donde en otros lenguajes de programación la sangría en código es para legibilidad solo que la sangría en Python es muy importante.\n",
        "\n",
        "Python usa sangría para indicar un bloque de código."
      ],
      "metadata": {
        "id": "13sG4q1gxTt9"
      }
    },
    {
      "cell_type": "code",
      "source": [
        "if 5 > 2:\n",
        "print(\"¡Cinco es mayor que dos!\")"
      ],
      "metadata": {
        "colab": {
          "base_uri": "https://localhost:8080/",
          "height": 110
        },
        "id": "z87YT3Qpxhby",
        "outputId": "5ccdf04a-d09e-4c6f-e028-9652fd5a223d"
      },
      "execution_count": null,
      "outputs": [
        {
          "output_type": "error",
          "ename": "IndentationError",
          "evalue": "expected an indented block after 'if' statement on line 1 (<ipython-input-3-4aca261d3a4f>, line 2)",
          "traceback": [
            "\u001b[0;36m  File \u001b[0;32m\"<ipython-input-3-4aca261d3a4f>\"\u001b[0;36m, line \u001b[0;32m2\u001b[0m\n\u001b[0;31m    print(\"¡Cinco es mayor que dos!\")\u001b[0m\n\u001b[0m    ^\u001b[0m\n\u001b[0;31mIndentationError\u001b[0m\u001b[0;31m:\u001b[0m expected an indented block after 'if' statement on line 1\n"
          ]
        }
      ]
    },
    {
      "cell_type": "code",
      "source": [
        "if 5 > 2:\n",
        "         print(\"¡Cinco es mayor que dos!\")"
      ],
      "metadata": {
        "colab": {
          "base_uri": "https://localhost:8080/"
        },
        "id": "PRiUAn8mxan9",
        "outputId": "e343fbc8-4c3a-42b9-baac-1795fad3b97a"
      },
      "execution_count": null,
      "outputs": [
        {
          "output_type": "stream",
          "name": "stdout",
          "text": [
            "¡Cinco es mayor que dos!\n"
          ]
        }
      ]
    },
    {
      "cell_type": "code",
      "source": [
        "if 5 > 2:\n",
        " print(\"¡Cinco es mayor que dos!\")\n",
        "        print(\"¡Cinco es mayor que dos!\")"
      ],
      "metadata": {
        "colab": {
          "base_uri": "https://localhost:8080/",
          "height": 110
        },
        "id": "6ynmnv0QxpJ3",
        "outputId": "0e528dc8-4f87-4842-f852-fc2d84e5dcf8"
      },
      "execution_count": null,
      "outputs": [
        {
          "output_type": "error",
          "ename": "IndentationError",
          "evalue": "unexpected indent (<ipython-input-2-50281140d002>, line 3)",
          "traceback": [
            "\u001b[0;36m  File \u001b[0;32m\"<ipython-input-2-50281140d002>\"\u001b[0;36m, line \u001b[0;32m3\u001b[0m\n\u001b[0;31m    print(\"¡Cinco es mayor que dos!\")\u001b[0m\n\u001b[0m    ^\u001b[0m\n\u001b[0;31mIndentationError\u001b[0m\u001b[0;31m:\u001b[0m unexpected indent\n"
          ]
        }
      ]
    },
    {
      "cell_type": "markdown",
      "source": [
        "## Variables\n",
        "Una variable es un espacio en la memoria donde se almacena un valor. En Python, no es necesario declarar el tipo de variable antes de asignarle un valor, ya que Python utiliza tipado dinámico.\n",
        "\n",
        "Asignación de variables:"
      ],
      "metadata": {
        "id": "dLj9ZdARtrtO"
      }
    },
    {
      "cell_type": "code",
      "source": [
        "# Asignación de variables\n",
        "x = 5\n",
        "y = \"Hola, Mundo\"\n",
        "z = 3.14\n",
        "\n",
        "# Imprimir variables\n",
        "print(x)\n",
        "print(y)\n",
        "print(z)\n"
      ],
      "metadata": {
        "id": "f1T5PdkVtriP",
        "colab": {
          "base_uri": "https://localhost:8080/"
        },
        "outputId": "3d76eb94-c439-4db0-cf9d-5f865d3a353d"
      },
      "execution_count": null,
      "outputs": [
        {
          "output_type": "stream",
          "name": "stdout",
          "text": [
            "5\n",
            "Hola, Mundo\n",
            "3.14\n"
          ]
        }
      ]
    },
    {
      "cell_type": "markdown",
      "source": [
        "**Tipos de Datos Básicos:**\n",
        "\n",
        "* Tipo texto:\tstr\n",
        "\n",
        "* Tipo numéricos:\tint, float\n",
        "\n",
        "* Tipo secuencias:\tlist, tuple, range\n",
        "\n",
        "* Tipo mapas:\tdict\n",
        "\n",
        "* Tipo booleano :\tbool\n",
        "\n",
        "\n",
        "\n"
      ],
      "metadata": {
        "id": "Fy9Pk8jSt5ft"
      }
    },
    {
      "cell_type": "code",
      "source": [
        "# Entero (int)\n",
        "numero = 10"
      ],
      "metadata": {
        "id": "EBmngcxOt7od"
      },
      "execution_count": null,
      "outputs": []
    },
    {
      "cell_type": "code",
      "source": [
        "# Flotantes\n",
        "decimal = 10.5"
      ],
      "metadata": {
        "id": "zCftDmm3tpcZ"
      },
      "execution_count": null,
      "outputs": []
    },
    {
      "cell_type": "code",
      "source": [
        "# Booleanos (True o False)\n",
        "es_verdadero = True"
      ],
      "metadata": {
        "id": "ejfpg7zouF5J"
      },
      "execution_count": null,
      "outputs": []
    },
    {
      "cell_type": "code",
      "source": [
        "# Lista / Array\n",
        "x = [\"apple\", \"banana\", \"cherry\"]"
      ],
      "metadata": {
        "id": "aPw9nJOY1w47"
      },
      "execution_count": null,
      "outputs": []
    },
    {
      "cell_type": "code",
      "source": [
        "# Tupla\n",
        "x = (\"apple\", \"banana\", \"cherry\")"
      ],
      "metadata": {
        "id": "IOgKtn891zG8"
      },
      "execution_count": null,
      "outputs": []
    },
    {
      "cell_type": "code",
      "source": [
        "# Rango\n",
        "x = range(2,6)\n",
        "x"
      ],
      "metadata": {
        "collapsed": true,
        "id": "Gqm3W2hk11_E",
        "colab": {
          "base_uri": "https://localhost:8080/"
        },
        "outputId": "19bd0b90-5f47-417b-a096-e5aac375b416"
      },
      "execution_count": null,
      "outputs": [
        {
          "output_type": "execute_result",
          "data": {
            "text/plain": [
              "range(2, 6)"
            ]
          },
          "metadata": {},
          "execution_count": 4
        }
      ]
    },
    {
      "cell_type": "code",
      "source": [
        "# diccionario\n",
        "x = {\"name\" : \"John\", \"age\" : 36}"
      ],
      "metadata": {
        "id": "zmvX1eJS15o9"
      },
      "execution_count": null,
      "outputs": []
    },
    {
      "cell_type": "markdown",
      "source": [
        "### Cadenas - texto"
      ],
      "metadata": {
        "id": "KVAuhaUU1CB2"
      }
    },
    {
      "cell_type": "code",
      "source": [
        "# Cadenas\n",
        "texto = \"Hola, Mundo\""
      ],
      "metadata": {
        "id": "o-pYcdaVuC3p"
      },
      "execution_count": null,
      "outputs": []
    },
    {
      "cell_type": "code",
      "source": [
        "# Concatenación --> \"+\"\n",
        "saludo = \"Hola\"\n",
        "nombre = \"Mundo\"\n",
        "mensaje = saludo + \", \" + nombre\n",
        "print(mensaje)  # Output: Hola, Mundo"
      ],
      "metadata": {
        "id": "4BhljGpYuOvD",
        "colab": {
          "base_uri": "https://localhost:8080/"
        },
        "outputId": "e6f53929-142c-41b7-9aaa-ff5961d0428a"
      },
      "execution_count": null,
      "outputs": [
        {
          "output_type": "stream",
          "name": "stdout",
          "text": [
            "Hola, Mundo\n"
          ]
        }
      ]
    },
    {
      "cell_type": "code",
      "source": [
        "# Repetición --> \"*\"\n",
        "risa = \"ja\" * 3\n",
        "print(risa)  # Output: jajaja"
      ],
      "metadata": {
        "id": "Qjq-KFBwuuWv",
        "colab": {
          "base_uri": "https://localhost:8080/"
        },
        "outputId": "7487473c-2f4c-49d2-f697-480c9bf1ecd8"
      },
      "execution_count": null,
      "outputs": [
        {
          "output_type": "stream",
          "name": "stdout",
          "text": [
            "jajaja\n"
          ]
        }
      ]
    },
    {
      "cell_type": "code",
      "source": [
        "# Acceso a caracteres\n",
        "texto = \"Python\"\n",
        "primera_letra = texto[0]\n",
        "print(primera_letra)  # Output: P"
      ],
      "metadata": {
        "id": "xw6887teuzG4",
        "colab": {
          "base_uri": "https://localhost:8080/"
        },
        "outputId": "45067191-2ff2-421e-c2a9-15e3223f4f6f"
      },
      "execution_count": null,
      "outputs": [
        {
          "output_type": "stream",
          "name": "stdout",
          "text": [
            "P\n"
          ]
        }
      ]
    },
    {
      "cell_type": "code",
      "source": [
        "# Subcadenas\n",
        "texto = \"Python\"\n",
        "subcadena = texto[0:2]\n",
        "print(subcadena)  # Output: Py"
      ],
      "metadata": {
        "id": "ocYLC--qu3Bx",
        "colab": {
          "base_uri": "https://localhost:8080/"
        },
        "outputId": "55a058e4-8fe2-4401-a33e-379117d8a84c"
      },
      "execution_count": null,
      "outputs": [
        {
          "output_type": "stream",
          "name": "stdout",
          "text": [
            "Py\n"
          ]
        }
      ]
    },
    {
      "cell_type": "code",
      "source": [
        "# Revertir una cadena\n",
        "cadena = \"Python\"\n",
        "cadena_invertida = cadena[::-1]\n",
        "print(cadena_invertida)  # Output: nohtyP"
      ],
      "metadata": {
        "id": "m1GlzNp4wRN4",
        "colab": {
          "base_uri": "https://localhost:8080/"
        },
        "outputId": "d1535f8a-5998-4ad3-a728-10cfbd1fb2ff"
      },
      "execution_count": null,
      "outputs": [
        {
          "output_type": "stream",
          "name": "stdout",
          "text": [
            "nohtyP\n"
          ]
        }
      ]
    },
    {
      "cell_type": "code",
      "source": [
        "# Métodos de cadenas: UPPER / LOWER / CAPITALIZE\n",
        "texto = \"hola mundo\"\n",
        "mayusculas = texto.upper()\n",
        "print(mayusculas)  # Output: HOLA MUNDO\n",
        "\n",
        "minusculas = texto.lower()\n",
        "print(minusculas)  # Output: hola mundo\n",
        "\n",
        "capitalizado = texto.capitalize()\n",
        "print(capitalizado)  # Output: Hola mundo"
      ],
      "metadata": {
        "id": "KmLSCN4zu_cd",
        "colab": {
          "base_uri": "https://localhost:8080/"
        },
        "outputId": "99a4015c-579b-45f1-e4cd-28250de2057b"
      },
      "execution_count": null,
      "outputs": [
        {
          "output_type": "stream",
          "name": "stdout",
          "text": [
            "HOLA MUNDO\n",
            "hola mundo\n",
            "Hola mundo\n"
          ]
        }
      ]
    },
    {
      "cell_type": "markdown",
      "source": [
        "### Casting\n",
        "\n",
        "Si se quiere un tipo de datos especificamente, se realizan casting para adaptarlo. --> **cast()**"
      ],
      "metadata": {
        "id": "AR-qZ67Syegp"
      }
    },
    {
      "cell_type": "code",
      "source": [
        "x = str(3)    # x sera '3'\n",
        "y = int(3)    # y sera 3\n",
        "z = float(3)  # z sera 3.0\n",
        "print(x)\n",
        "print(y)\n",
        "print(z)"
      ],
      "metadata": {
        "collapsed": true,
        "id": "wPUZEI9RyoVz",
        "colab": {
          "base_uri": "https://localhost:8080/"
        },
        "outputId": "7a1e9de0-7ed3-4d71-87a6-601de8434ae8"
      },
      "execution_count": null,
      "outputs": [
        {
          "output_type": "stream",
          "name": "stdout",
          "text": [
            "3\n",
            "3\n",
            "3.0\n"
          ]
        }
      ]
    },
    {
      "cell_type": "markdown",
      "source": [
        "### Obtener el tipo\n",
        "Cuando no estamos seguros de qué tipo de datos estamos manejando, usamos **type()**."
      ],
      "metadata": {
        "id": "SjmC7mTdy0PJ"
      }
    },
    {
      "cell_type": "code",
      "source": [
        "x = 5\n",
        "y = \"John\"\n",
        "print(type(x))\n",
        "print(type(y))"
      ],
      "metadata": {
        "id": "r5HnUkbMzcNn",
        "colab": {
          "base_uri": "https://localhost:8080/"
        },
        "outputId": "53ce3909-cc96-47af-bf13-b07a0d1ee890"
      },
      "execution_count": null,
      "outputs": [
        {
          "output_type": "stream",
          "name": "stdout",
          "text": [
            "<class 'int'>\n",
            "<class 'str'>\n"
          ]
        }
      ]
    },
    {
      "cell_type": "markdown",
      "source": [
        "### Case-Sensitive\n",
        "Python es un lenguaje case-sensitive, es decir, distingue entre mayúsculas y minúsculas."
      ],
      "metadata": {
        "id": "fLt2xneDzfvS"
      }
    },
    {
      "cell_type": "code",
      "source": [
        "a = 4\n",
        "A = \"Sally\"\n",
        "#A will not overwrite a\n",
        "print(a)\n",
        "print(A)"
      ],
      "metadata": {
        "id": "0UKYsrCvzoRf",
        "colab": {
          "base_uri": "https://localhost:8080/"
        },
        "outputId": "8f7e69fd-bccc-48ca-ce3f-99c74a3bbd1b"
      },
      "execution_count": null,
      "outputs": [
        {
          "output_type": "stream",
          "name": "stdout",
          "text": [
            "4\n",
            "Sally\n"
          ]
        }
      ]
    },
    {
      "cell_type": "markdown",
      "source": [
        "### Nombres de las variables\n",
        "\n",
        "Una variable puede tener un nombre corto (como x e y) o un nombre más descriptivo (edad, nombre, total_volume). Reglas para las variables de Python:\n",
        "* Un nombre de variable debe comenzar de una letra o carácter.\n",
        "* Un nombre de variable no puede comenzar con un número.\n",
        "* Un nombre de variable solo puede contener caracteres alfanuméricos y guiones bajos (A-z, 0-9 y _ )\n",
        "* Los nombres de variables son sensibles a los casos (edad, Edad y EDAD son tres variables diferentes).\n",
        "* Un nombre de variable no puede ser ninguno de las [Palabras clave](https://www.w3schools.com/python/python_ref_keywords.asp) de python.\n",
        "\n",
        "⚠ Recuerda que es case-sensitive!"
      ],
      "metadata": {
        "id": "fWXEZTtxz3O-"
      }
    },
    {
      "cell_type": "code",
      "source": [
        "myvar = \"John\"\n",
        "my_var = \"John\"\n",
        "_my_var = \"John\"\n",
        "myVar = \"John\"\n",
        "MYVAR = \"John\"\n",
        "myvar2 = \"John\""
      ],
      "metadata": {
        "id": "KFzMWDwGz_7j"
      },
      "execution_count": null,
      "outputs": []
    },
    {
      "cell_type": "code",
      "source": [
        "2myvar = \"John\"\n",
        "my-var = \"John\"\n",
        "my var = \"John\""
      ],
      "metadata": {
        "id": "MG13wllK0Aci"
      },
      "execution_count": null,
      "outputs": []
    },
    {
      "cell_type": "markdown",
      "source": [
        "Nombres de variables multipalabras"
      ],
      "metadata": {
        "id": "l6JjtZ4p0myL"
      }
    },
    {
      "cell_type": "code",
      "source": [
        "myVariableName = \"John\"\n",
        "MyVariableName = \"John\"\n",
        "my_variable_name = \"John\""
      ],
      "metadata": {
        "id": "XHZSdBkM0stz"
      },
      "execution_count": null,
      "outputs": []
    },
    {
      "cell_type": "markdown",
      "source": [
        "Asignar múltiples variables a la vez:"
      ],
      "metadata": {
        "id": "7-azTGER0xpN"
      }
    },
    {
      "cell_type": "code",
      "source": [
        "x, y, z = \"Orange\", \"Banana\", \"Cherry\"\n",
        "print(x)\n",
        "print(y)\n",
        "print(z)"
      ],
      "metadata": {
        "id": "teCm5CWB0xDz",
        "colab": {
          "base_uri": "https://localhost:8080/"
        },
        "outputId": "328847eb-aed0-4ffa-ea21-4f2e2a2c9571"
      },
      "execution_count": null,
      "outputs": [
        {
          "output_type": "stream",
          "name": "stdout",
          "text": [
            "Orange\n",
            "Banana\n",
            "Cherry\n"
          ]
        }
      ]
    },
    {
      "cell_type": "markdown",
      "source": [
        "## Comentarios\n",
        "\n",
        "Para explicar mejor nuestro código y realizar anotaciones, se realizan comentarios. Son muy importantes!! El código tiene que ser legible para todos. 👍"
      ],
      "metadata": {
        "id": "XBam1-k-xyoK"
      }
    },
    {
      "cell_type": "code",
      "source": [
        "# Comentario\n",
        "print(\"Hello, World!\")"
      ],
      "metadata": {
        "id": "14U1-lkDx0YI"
      },
      "execution_count": null,
      "outputs": []
    },
    {
      "cell_type": "code",
      "source": [
        "\"\"\"\n",
        "Esto es\n",
        "un comentario\n",
        "multilinea\n",
        "\"\"\"\n",
        "print(\"Hello, World!\")"
      ],
      "metadata": {
        "id": "8uvubXEhx-xh"
      },
      "execution_count": null,
      "outputs": []
    },
    {
      "cell_type": "markdown",
      "source": [
        "## Ejercicio 0: Asignación y Suma de Variables\n",
        "\n",
        "Crea dos variables, asigna valores a ellas, y muestra la suma."
      ],
      "metadata": {
        "id": "aLlniKD7_D-p"
      }
    },
    {
      "cell_type": "code",
      "source": [
        "#TODO\n",
        "\n",
        "x=4\n",
        "y=4\n",
        "\n",
        "print(\"La suma es \",(x)+(y))"
      ],
      "metadata": {
        "colab": {
          "base_uri": "https://localhost:8080/"
        },
        "id": "Og9HRWfP_DJA",
        "outputId": "56e7bdbf-1e89-4f94-d348-6a8357923405"
      },
      "execution_count": null,
      "outputs": [
        {
          "output_type": "stream",
          "name": "stdout",
          "text": [
            "La suma es  8\n"
          ]
        }
      ]
    },
    {
      "cell_type": "markdown",
      "source": [
        "## Ejercicio 1: Concatenación de Cadena\n",
        "\n",
        "Escribe un programa que concatene dos cadenas y las muestre."
      ],
      "metadata": {
        "id": "6pLML9Q1_2hY"
      }
    },
    {
      "cell_type": "code",
      "source": [
        "cadena1 = \"Hola\"\n",
        "cadena2 = \"Mundo\"\n",
        "cadena_concatenada = cadena1 + \" \" + cadena2\n",
        "print(cadena_concatenada)"
      ],
      "metadata": {
        "colab": {
          "base_uri": "https://localhost:8080/"
        },
        "id": "LZ6vtqAm_2N1",
        "outputId": "8812f883-a4bf-4241-9201-69603213f941"
      },
      "execution_count": null,
      "outputs": [
        {
          "output_type": "stream",
          "name": "stdout",
          "text": [
            "Hola Mundo\n"
          ]
        }
      ]
    },
    {
      "cell_type": "markdown",
      "source": [
        "## Ejercicio 2: Contar el Número de Caracteres en una Cadena\n",
        "Escribe un programa que cuente el número de caracteres en una cadena. (Pista en Python existe una función que se llama len() que devuelve la longitud de una cadena)"
      ],
      "metadata": {
        "id": "CQyA_38XACeU"
      }
    },
    {
      "cell_type": "code",
      "source": [
        "cadena = \"Hola, Python!\"\n",
        "numero_de_caracteres = len(cadena)\n",
        "print(\"El número de caracteres en la cadena es:\", numero_de_caracteres)"
      ],
      "metadata": {
        "colab": {
          "base_uri": "https://localhost:8080/"
        },
        "id": "W-CkdPIZATA7",
        "outputId": "43e624bb-0066-400d-8cce-ca7aa922ea2c"
      },
      "execution_count": null,
      "outputs": [
        {
          "output_type": "stream",
          "name": "stdout",
          "text": [
            "El número de caracteres en la cadena es: 13\n"
          ]
        }
      ]
    },
    {
      "cell_type": "markdown",
      "source": [
        "## Ejercicio 3: Encontrar el máximo y el mínimo\n",
        "\n",
        "Escribe un programa que encuentre el número mínimo y el máximo entre tres números dados."
      ],
      "metadata": {
        "id": "_To_u5RjAVK6"
      }
    },
    {
      "cell_type": "code",
      "source": [
        "a = 5\n",
        "b = 3\n",
        "c = 8\n",
        "minimo = min(a,b,c)\n",
        "maximo = max(a,b,c)\n",
        "print(\"El número mínimo es:\", minimo)\n",
        "print(\"El número maximo es:\", maximo)"
      ],
      "metadata": {
        "colab": {
          "base_uri": "https://localhost:8080/"
        },
        "id": "YTnSrFunAfgH",
        "outputId": "b4681ced-e845-46c2-cfce-0faf662c3624"
      },
      "execution_count": null,
      "outputs": [
        {
          "output_type": "stream",
          "name": "stdout",
          "text": [
            "El número mínimo es: 3\n",
            "El número maximo es: 8\n"
          ]
        }
      ]
    },
    {
      "cell_type": "markdown",
      "source": [
        "## Ejercicio 4: Intercambio de Valores\n",
        "\n",
        "Intercambiador de dos variables:\n",
        "\n",
        "Dada a = 5 y b = 10, se pide que se intercambie el valor de las dos variables. Es decir, que a = 10 y b = 5. Imprime la solución."
      ],
      "metadata": {
        "id": "0rVJR8zCvJbL"
      }
    },
    {
      "cell_type": "code",
      "source": [
        "# Intercambiador valores\n",
        "\n",
        "# variables iniciales\n",
        "a = 5\n",
        "b = 10\n",
        "\n",
        "extra=a\n",
        "a=b\n",
        "b=extra\n",
        "\n",
        "print(a)\n",
        "print(b)"
      ],
      "metadata": {
        "id": "7NyQlzESvI2i",
        "colab": {
          "base_uri": "https://localhost:8080/"
        },
        "outputId": "d5712085-e252-4f22-fe90-680cc2c11f0c"
      },
      "execution_count": null,
      "outputs": [
        {
          "output_type": "stream",
          "name": "stdout",
          "text": [
            "10\n",
            "5\n"
          ]
        }
      ]
    },
    {
      "cell_type": "markdown",
      "source": [
        "# ALGORITMICA\n"
      ],
      "metadata": {
        "id": "SXXY4jsqw_Kw"
      }
    },
    {
      "cell_type": "markdown",
      "source": [
        "# Declaraciones Condicionales ❓\n",
        "\n",
        "## If..elif..Else\n",
        "\n",
        "* Igualdad: a == b\n",
        "* No igual: a != b\n",
        "* Menor que: a < b\n",
        "* Menor o igual que: a <= b\n",
        "* Mayor que: a > b\n",
        "* Mayor o igual que: a >= b"
      ],
      "metadata": {
        "id": "iAgxiGUBxD82"
      }
    },
    {
      "cell_type": "code",
      "source": [
        "a = 33\n",
        "b = 200\n",
        "if b < a:\n",
        "  print(\"b es mayor que a\")"
      ],
      "metadata": {
        "id": "w5ym-VVv2l5q"
      },
      "execution_count": null,
      "outputs": []
    },
    {
      "cell_type": "code",
      "source": [
        "a = 33\n",
        "b = 33\n",
        "if b > a:\n",
        "  print(\"b es mayor que a\")\n",
        "elif a == b:\n",
        "  print(\"a y b son iguales\")"
      ],
      "metadata": {
        "id": "iKkU1Ruy2owe"
      },
      "execution_count": null,
      "outputs": []
    },
    {
      "cell_type": "code",
      "source": [
        "a = 200\n",
        "b = 33\n",
        "if b > a:\n",
        "  print(\"b es mayor que a\")\n",
        "else:\n",
        "  print(\"a y b son iguales\")"
      ],
      "metadata": {
        "id": "BVEExJj92zyE",
        "colab": {
          "base_uri": "https://localhost:8080/"
        },
        "outputId": "c9c2fafc-eed4-426e-f73d-aa77a89363f4"
      },
      "execution_count": null,
      "outputs": [
        {
          "output_type": "stream",
          "name": "stdout",
          "text": [
            "a y b son iguales\n"
          ]
        }
      ]
    },
    {
      "cell_type": "markdown",
      "source": [
        "Otras maneras de escribir, más pro ;)"
      ],
      "metadata": {
        "id": "vf2hMI-h249h"
      }
    },
    {
      "cell_type": "code",
      "source": [
        "if a > b: print(\"a es mayor que b\")"
      ],
      "metadata": {
        "id": "qF_1RW7e24qN"
      },
      "execution_count": null,
      "outputs": []
    },
    {
      "cell_type": "code",
      "source": [
        "a = 2\n",
        "b = 330\n",
        "print(\"A\") if a > b else print(\"B\")"
      ],
      "metadata": {
        "id": "8NgwVQJJ3Beq"
      },
      "execution_count": null,
      "outputs": []
    },
    {
      "cell_type": "markdown",
      "source": [
        "### Operador lógicos (AND - OR - NOT)\n",
        "\"AND\" es una operador lógico que solo será aceptado si ambas sentencias se cumplen."
      ],
      "metadata": {
        "id": "z3eXB-_G3GPS"
      }
    },
    {
      "cell_type": "code",
      "source": [
        "# SI a es mayor que b, AND si c es mayor que a\n",
        "a = 200\n",
        "b = 33\n",
        "c = 500\n",
        "if a > b and c > a:\n",
        "  print(\"Las dos condiciones son True\")"
      ],
      "metadata": {
        "id": "l1dm_jAQ3QHl"
      },
      "execution_count": null,
      "outputs": []
    },
    {
      "cell_type": "markdown",
      "source": [
        "\"OR\" es otro operador lógico que será aceptado si una de las sentencias es true."
      ],
      "metadata": {
        "id": "rrAd3JNa3dV-"
      }
    },
    {
      "cell_type": "code",
      "source": [
        "# Si a es mayor que b, OR si a es mayor que c\n",
        "a = 200\n",
        "b = 33\n",
        "c = 500\n",
        "if a > b or a > c:\n",
        "  print(\"Almenos una de las dos condiciones es True\")"
      ],
      "metadata": {
        "id": "BNyz3NdD3mJ2"
      },
      "execution_count": null,
      "outputs": []
    },
    {
      "cell_type": "markdown",
      "source": [
        "\"NOT\" sirve para verificar su inverso, su contrario."
      ],
      "metadata": {
        "id": "702yVBwZ3xnh"
      }
    },
    {
      "cell_type": "code",
      "source": [
        "# Si a NO es mayor que b\n",
        "a = 33\n",
        "b = 200\n",
        "if not a > b:\n",
        "  print(\"a NO es mayor que b\")"
      ],
      "metadata": {
        "id": "NF1owG5p3_8K"
      },
      "execution_count": null,
      "outputs": []
    },
    {
      "cell_type": "markdown",
      "source": [
        "\"IN\" sirve para verificar si un elemento está en la lista."
      ],
      "metadata": {
        "id": "oS1HvTy_B04W"
      }
    },
    {
      "cell_type": "code",
      "source": [
        "my_list = [11, 15, 21, 29, 50, 70]\n",
        "number = 15\n",
        "if number in my_list:\n",
        "    print(\"el numero esta en la lista\")"
      ],
      "metadata": {
        "colab": {
          "base_uri": "https://localhost:8080/"
        },
        "id": "Z3NRPm_TB5yq",
        "outputId": "ad2b830e-ff67-4621-e4e6-69cdf20412f4"
      },
      "execution_count": null,
      "outputs": [
        {
          "output_type": "stream",
          "name": "stdout",
          "text": [
            "el numero esta en la lista\n"
          ]
        }
      ]
    },
    {
      "cell_type": "markdown",
      "source": [
        "\"pass\" es una sentencia vacía que sirve para evitar errores.\n"
      ],
      "metadata": {
        "id": "v_r7hrFL4J25"
      }
    },
    {
      "cell_type": "code",
      "source": [
        "a = 33\n",
        "b = 200\n",
        "\n",
        "if b > a:\n",
        "  pass"
      ],
      "metadata": {
        "id": "GMmdOEj44QcM"
      },
      "execution_count": null,
      "outputs": []
    },
    {
      "cell_type": "markdown",
      "source": [
        "## Ejercicios IF"
      ],
      "metadata": {
        "id": "a-4Q2Nqb5MWj"
      }
    },
    {
      "cell_type": "markdown",
      "source": [
        "### Ejercicio 5: Número Positivo, Negativo o Cero\n",
        "\n",
        "Escribe un programa que lea un número del usuario y determine si es positivo, negativo o cero."
      ],
      "metadata": {
        "id": "Ogz6Zad_5OvE"
      }
    },
    {
      "cell_type": "code",
      "source": [
        "numero = float(input(\"Introduce un número: \"))\n",
        "\n",
        "if numero > 0:\n",
        "  print(\"El numero es positivo\")\n",
        "elif numero == 0:\n",
        "  print(\"El numero es 0\")\n",
        "else:\n",
        "  print(\"El numero es negativo\")\n"
      ],
      "metadata": {
        "colab": {
          "base_uri": "https://localhost:8080/"
        },
        "id": "IyWxTs6O5ONU",
        "outputId": "9f30549d-6270-4072-c80a-897a5805477e"
      },
      "execution_count": null,
      "outputs": [
        {
          "output_type": "stream",
          "name": "stdout",
          "text": [
            "Introduce un número: 0\n",
            "El numero es 0\n"
          ]
        }
      ]
    },
    {
      "cell_type": "markdown",
      "source": [
        "### Ejercicio 6: Número Par o Impar\n",
        "Escribe un programa que lea un número entero del usuario y determine si es par o impar."
      ],
      "metadata": {
        "id": "GcvuoxZ65f0O"
      }
    },
    {
      "cell_type": "code",
      "source": [
        "numero = int(input(\"Introduce un número entero: \"))\n",
        "\n",
        "if numero % 2 ==0:\n",
        "  print(\"El numero es par\")\n",
        "else:\n",
        "  print(\"El numero es impar\")\n",
        "  # TODO"
      ],
      "metadata": {
        "id": "g4Xu58ab5kfF",
        "colab": {
          "base_uri": "https://localhost:8080/"
        },
        "outputId": "56fc39db-9af2-4837-d2ce-8990bfd84cc2"
      },
      "execution_count": null,
      "outputs": [
        {
          "output_type": "stream",
          "name": "stdout",
          "text": [
            "Introduce un número entero: 9\n",
            "El numero es impar\n"
          ]
        }
      ]
    },
    {
      "cell_type": "markdown",
      "source": [
        "### Ejercicio 7: Palindromo\n",
        "Comprobar si una Cadena es un Palíndromo. Una secuencia es palíndromo si se lee igual hacia delante y hacia atrás. Por ejemplo: amor - Roma, rata - atar, amar - rama ...\n"
      ],
      "metadata": {
        "id": "TIajMq3SDsf1"
      }
    },
    {
      "cell_type": "code",
      "source": [
        "palabra_1 = \"anilina\" # Output: True\n",
        "palabra_2= \"hola\"  # Output: False\n",
        "palabra_3 = \"A man a plan a canal Panama\" # Output: True\n",
        "\n",
        "inversa_1 = palabra_3[::-1]\n",
        "\n",
        "if palabra_3.lower() == inversa_1.lower():\n",
        "  print(\"True\")\n",
        "else:\n",
        "  print(\"False\")"
      ],
      "metadata": {
        "colab": {
          "base_uri": "https://localhost:8080/"
        },
        "id": "dZgbKvdIDsKe",
        "outputId": "37726596-16c4-46cd-bbc1-e86cedf42b6a"
      },
      "execution_count": null,
      "outputs": [
        {
          "output_type": "stream",
          "name": "stdout",
          "text": [
            "False\n"
          ]
        }
      ]
    },
    {
      "cell_type": "markdown",
      "source": [
        "### Ejercicio 8: Año Bisiesto\n",
        "Escribe un programa que determine si un año es bisiesto. Un año es bisiesto si es divisible por 4, pero no por 100, a menos que también sea divisible por 400."
      ],
      "metadata": {
        "id": "NxeV4qBJ5r7L"
      }
    },
    {
      "cell_type": "code",
      "source": [
        "numero = int(input(\"Introduce un número entero: \"))\n",
        "\n",
        "if (numero %4 == 0 and numero %100 !=0) or (numero % 400==0):\n",
        "  print(\"True\")"
      ],
      "metadata": {
        "id": "uKcwTXCr56FO",
        "colab": {
          "base_uri": "https://localhost:8080/"
        },
        "outputId": "866e1643-1f8d-4f22-9526-8a6327e2744f"
      },
      "execution_count": null,
      "outputs": [
        {
          "output_type": "stream",
          "name": "stdout",
          "text": [
            "Introduce un número entero: 2024\n",
            "True\n"
          ]
        }
      ]
    },
    {
      "cell_type": "markdown",
      "source": [
        "### Ejercicio 9: Calculcadora Básica\n",
        "\n",
        "Escribe un programa que simule una calculadora básica. El usuario debe introducir dos números y una operación (+, -, *, /). El programa debe realizar la operación y mostrar el resultado."
      ],
      "metadata": {
        "id": "zTUErZVu56w6"
      }
    },
    {
      "cell_type": "code",
      "source": [
        "num1 = float(input(\"Introduce el primer número: \"))\n",
        "num2 = float(input(\"Introduce el segundo número: \"))\n",
        "operacion = input(\"Introduce la operación (+, -, *, /): \")\n",
        "\n",
        "if operacion == \"+\":\n",
        "  print(num1+num2)\n",
        "elif operacion == \"-\":\n",
        "  print(num1-num2)\n",
        "elif operacion == \"*\":\n",
        "  print(num1*num2)\n",
        "elif operacion == \"/\":\n",
        "  print(num1/num2)"
      ],
      "metadata": {
        "id": "_w4RyTGy6FRl",
        "colab": {
          "base_uri": "https://localhost:8080/"
        },
        "outputId": "1edb5797-103c-482d-f465-4e7a88214ec5"
      },
      "execution_count": null,
      "outputs": [
        {
          "name": "stdout",
          "output_type": "stream",
          "text": [
            "Introduce el primer número: 4\n",
            "Introduce el segundo número: 2\n",
            "Introduce la operación (+, -, *, /): h\n"
          ]
        }
      ]
    },
    {
      "cell_type": "markdown",
      "source": [
        "### Ejercicio 10: Calificaciones\n",
        "Escribe un programa que lea una calificación numérica (0-100) y convierta esa calificación a una letra (A, B, C, D, F) de acuerdo a la siguiente tabla:\n",
        "\n",
        "* 90-100: A\n",
        "* 80-89: B\n",
        "* 70-79: C\n",
        "* 60-69: D\n",
        "* 0-59: F"
      ],
      "metadata": {
        "id": "oOrsYyCu6Omt"
      }
    },
    {
      "cell_type": "code",
      "source": [
        "calificacion = int(input(\"Introduce la calificación (0-100): \"))\n",
        "\n",
        "if calificacion <=59:\n",
        "  print(\"F\")\n",
        "elif calificacion >=60 and calificacion <=69:\n",
        "  print(\"D\")\n",
        "elif calificacion >=70 and calificacion <=79:\n",
        "  print(\"C\")\n",
        "elif calificacion >=80 and calificacion <=89:\n",
        "  print(\"B\")\n",
        "elif calificacion >=90 and calificacion <=100:\n",
        "  print(\"A\")"
      ],
      "metadata": {
        "id": "xBBNAoQM6ORA",
        "colab": {
          "base_uri": "https://localhost:8080/"
        },
        "outputId": "caf8048d-420a-4d8f-f24c-8e357f998e22"
      },
      "execution_count": null,
      "outputs": [
        {
          "name": "stdout",
          "output_type": "stream",
          "text": [
            "Introduce la calificación (0-100): 1345\n"
          ]
        }
      ]
    },
    {
      "cell_type": "markdown",
      "source": [
        "# Python While Loops ➿\n",
        "\n",
        "Tenemos dos tipos de bucles en python:\n",
        "* while\n",
        "* for\n",
        "\n"
      ],
      "metadata": {
        "id": "2OkBgZS64akx"
      }
    },
    {
      "cell_type": "markdown",
      "source": [
        "## Bucle WHILE\n",
        "Con while siempre se va a ejecutar repetitivamente el código de su interior hasta que su sentencia siga siendo true."
      ],
      "metadata": {
        "id": "fz6t_5Jo4pWQ"
      }
    },
    {
      "cell_type": "code",
      "source": [
        "i = 1\n",
        "while i < 6:\n",
        "  print(i)\n",
        "  i += 1    # se va incrementando la i"
      ],
      "metadata": {
        "id": "_Cghofc34o4D",
        "colab": {
          "base_uri": "https://localhost:8080/"
        },
        "outputId": "fe7b6bfd-8fcc-415d-a5bf-281e80f55911"
      },
      "execution_count": null,
      "outputs": [
        {
          "output_type": "stream",
          "name": "stdout",
          "text": [
            "1\n",
            "2\n",
            "3\n",
            "4\n",
            "5\n"
          ]
        }
      ]
    },
    {
      "cell_type": "markdown",
      "source": [
        "Sentencia BREAK. Nos permite salir directamente de un bucle."
      ],
      "metadata": {
        "id": "pSPchwK_6w2Q"
      }
    },
    {
      "cell_type": "code",
      "source": [
        "i = 1\n",
        "while i < 6:\n",
        "  print(i)\n",
        "  if i == 3:\n",
        "    break\n",
        "  i += 1"
      ],
      "metadata": {
        "id": "IH7GGEPQ619t",
        "colab": {
          "base_uri": "https://localhost:8080/"
        },
        "outputId": "418e6370-6000-46eb-9468-579d2859428e"
      },
      "execution_count": null,
      "outputs": [
        {
          "output_type": "stream",
          "name": "stdout",
          "text": [
            "1\n",
            "2\n",
            "3\n"
          ]
        }
      ]
    },
    {
      "cell_type": "markdown",
      "source": [
        "Sentencia CONTINUE. Simplemente sigue con lo siguiente."
      ],
      "metadata": {
        "id": "owp_Plk363Sm"
      }
    },
    {
      "cell_type": "code",
      "source": [
        "i = 0\n",
        "while i < 6:\n",
        "  i += 1\n",
        "  if i == 3:\n",
        "    continue\n",
        "  print(i)"
      ],
      "metadata": {
        "id": "bmFyUysX69bI",
        "colab": {
          "base_uri": "https://localhost:8080/"
        },
        "outputId": "832db0ca-8ab4-4377-d975-5f3a8375a60d"
      },
      "execution_count": null,
      "outputs": [
        {
          "output_type": "stream",
          "name": "stdout",
          "text": [
            "1\n",
            "2\n",
            "4\n",
            "5\n",
            "6\n"
          ]
        }
      ]
    },
    {
      "cell_type": "markdown",
      "source": [
        "## Ejercicios While"
      ],
      "metadata": {
        "id": "fyh3wetx7IiO"
      }
    },
    {
      "cell_type": "markdown",
      "source": [
        "### Ejercicio 11: Contador Ascendente\n",
        "Escribe un programa que imprima los números del 1 al 10 utilizando un bucle while."
      ],
      "metadata": {
        "id": "GU48s1pp7NNF"
      }
    },
    {
      "cell_type": "code",
      "source": [
        "\n",
        "i=1\n",
        "while i <11:\n",
        "  print(i)\n",
        "  i+=1"
      ],
      "metadata": {
        "id": "G2SuV4wj7IGT",
        "colab": {
          "base_uri": "https://localhost:8080/"
        },
        "outputId": "d7decb22-f041-4e96-ebf7-c84273de63a0"
      },
      "execution_count": null,
      "outputs": [
        {
          "output_type": "stream",
          "name": "stdout",
          "text": [
            "1\n",
            "2\n",
            "3\n",
            "4\n",
            "5\n",
            "6\n",
            "7\n",
            "8\n",
            "9\n",
            "10\n"
          ]
        }
      ]
    },
    {
      "cell_type": "markdown",
      "source": [
        "### Ejercicio 12: Suma de números\n",
        "Escribe un programa que pida números al usuario y calcule la suma de esos números. El programa debe detenerse cuando el usuario introduzca un número negativo."
      ],
      "metadata": {
        "id": "3-mUQSDj7U2B"
      }
    },
    {
      "cell_type": "code",
      "source": [
        "num = 0\n",
        "suma = 0\n",
        "\n",
        "while num >=0:\n",
        "  num = int(input(\"Introduce un numero: \"))\n",
        "  if num <0:\n",
        "    break\n",
        "  suma = suma + num\n",
        "\n",
        "print(suma)"
      ],
      "metadata": {
        "id": "hEetwBCr7eae",
        "colab": {
          "base_uri": "https://localhost:8080/"
        },
        "outputId": "b5f9a741-97e4-4a39-c946-9925e0306ac2"
      },
      "execution_count": null,
      "outputs": [
        {
          "output_type": "stream",
          "name": "stdout",
          "text": [
            "Introduce un numero: 5\n",
            "Introduce un numero: 7\n",
            "Introduce un numero: 9\n",
            "Introduce un numero: -4\n",
            "21\n"
          ]
        }
      ]
    },
    {
      "cell_type": "markdown",
      "source": [
        "### Ejercicio 13: Adivina el Número\n",
        "Escribe un programa que genere un número aleatorio entre 1 y 100, y permita al usuario adivinarlo. El programa debe dar pistas al usuario indicando si su suposición es demasiado alta o demasiado baja, y continuar hasta que el usuario adivine el número correcto.\n"
      ],
      "metadata": {
        "id": "k7vGddvk7d-J"
      }
    },
    {
      "cell_type": "code",
      "source": [
        "import random\n",
        "\n",
        "numero_secreto = random.randint(1, 100)\n",
        "num = 0\n",
        "\n",
        "while num != numero_secreto:\n",
        "  num = int(input(\"Introduce un numero: \"))\n",
        "  if num > numero_secreto:\n",
        "    print(\"El numero secreto es menor\")\n",
        "  elif num < numero_secreto:\n",
        "    print(\"El numero secreto es mayor\")\n",
        "  else:\n",
        "    print(\"El numero secreto es correcto\")"
      ],
      "metadata": {
        "id": "mP8x0htJ7lOG",
        "colab": {
          "base_uri": "https://localhost:8080/"
        },
        "outputId": "ac6ca9f3-ec92-49a2-f977-c5a23bd6afaf"
      },
      "execution_count": null,
      "outputs": [
        {
          "output_type": "stream",
          "name": "stdout",
          "text": [
            "Introduce un numero: 20\n",
            "El numero secreto es mayor\n",
            "Introduce un numero: 40\n",
            "El numero secreto es mayor\n",
            "Introduce un numero: 50\n",
            "El numero secreto es menor\n",
            "Introduce un numero: 55\n",
            "El numero secreto es menor\n",
            "Introduce un numero: 52\n",
            "El numero secreto es menor\n",
            "Introduce un numero: 51\n",
            "El numero secreto es menor\n",
            "Introduce un numero: 49\n",
            "El numero secreto es menor\n",
            "Introduce un numero: 45\n",
            "El numero secreto es mayor\n",
            "Introduce un numero: 47\n",
            "El numero secreto es mayor\n",
            "Introduce un numero: 48\n",
            "El numero secreto es correcto\n"
          ]
        }
      ]
    },
    {
      "cell_type": "markdown",
      "source": [
        "## Bucle FOR"
      ],
      "metadata": {
        "id": "R2pylQ7q71sa"
      }
    },
    {
      "cell_type": "code",
      "source": [
        "# Recorriendo lista/array\n",
        "fruits = [\"apple\", \"banana\", \"cherry\"]\n",
        "for x in fruits:\n",
        "  print(x)"
      ],
      "metadata": {
        "id": "5mf-vTCF76ZK"
      },
      "execution_count": null,
      "outputs": []
    },
    {
      "cell_type": "code",
      "source": [
        "# recorriendo un string\n",
        "for x in \"banana\":\n",
        "  print(x)"
      ],
      "metadata": {
        "id": "7siQIE-g79jj"
      },
      "execution_count": null,
      "outputs": []
    },
    {
      "cell_type": "code",
      "source": [
        "fruits = [\"apple\", \"banana\", \"cherry\"]\n",
        "for x in fruits:\n",
        "  print(x)\n",
        "  if x == \"banana\":\n",
        "    break"
      ],
      "metadata": {
        "id": "5sf2DEph8HQk"
      },
      "execution_count": null,
      "outputs": []
    },
    {
      "cell_type": "code",
      "source": [
        "fruits = [\"apple\", \"banana\", \"cherry\"]\n",
        "for x in fruits:\n",
        "  if x == \"banana\":\n",
        "    continue\n",
        "  print(x)"
      ],
      "metadata": {
        "id": "ZD5yHPG38Jx0"
      },
      "execution_count": null,
      "outputs": []
    },
    {
      "cell_type": "code",
      "source": [
        "for x in range(6):\n",
        "  print(x)"
      ],
      "metadata": {
        "id": "p0_BHLO_8K5k"
      },
      "execution_count": null,
      "outputs": []
    },
    {
      "cell_type": "code",
      "source": [
        "for x in range(2, 6):\n",
        "  print(x)"
      ],
      "metadata": {
        "id": "d7t9t_bS8MDM"
      },
      "execution_count": null,
      "outputs": []
    },
    {
      "cell_type": "code",
      "source": [
        "for x in range(2, 30, 3):\n",
        "  print(x)"
      ],
      "metadata": {
        "id": "Wt8cHlIJ8QpM"
      },
      "execution_count": null,
      "outputs": []
    },
    {
      "cell_type": "code",
      "source": [
        "adj = [\"red\", \"big\", \"tasty\"]\n",
        "fruits = [\"apple\", \"banana\", \"cherry\"]\n",
        "\n",
        "for x in adj:\n",
        "  for y in fruits:\n",
        "    print(x, y)"
      ],
      "metadata": {
        "id": "ZvpxXRu38TPe"
      },
      "execution_count": null,
      "outputs": []
    },
    {
      "cell_type": "markdown",
      "source": [
        "## Ejercicios FOR"
      ],
      "metadata": {
        "id": "8702I7Fx8ek3"
      }
    },
    {
      "cell_type": "markdown",
      "source": [
        "### Ejercicio 14: Imprimir Números del 1 al 10"
      ],
      "metadata": {
        "id": "M6KObWZZ8iZy"
      }
    },
    {
      "cell_type": "code",
      "source": [
        "# TODO"
      ],
      "metadata": {
        "id": "1uP5oesL8giY"
      },
      "execution_count": null,
      "outputs": []
    },
    {
      "cell_type": "markdown",
      "source": [
        "### Ejercicio 15: Suma de Números en una Lista\n",
        "Escribe un programa que calcule la suma de los números en una lista."
      ],
      "metadata": {
        "id": "SE4F5X6D8oSf"
      }
    },
    {
      "cell_type": "code",
      "source": [
        "numeros = [1, 2, 3, 4, 5]\n",
        "suma = 0\n",
        "\n",
        "#TODO\n",
        "\n",
        "print(\"La suma de los números es:\", suma)"
      ],
      "metadata": {
        "id": "tjf6h7_M8nwn"
      },
      "execution_count": null,
      "outputs": []
    },
    {
      "cell_type": "markdown",
      "source": [
        "### Ejercicio 16: Imprimir Caracteres de una Cadena\n"
      ],
      "metadata": {
        "id": "jTOBvcAR8wBJ"
      }
    },
    {
      "cell_type": "code",
      "source": [
        "cadena = \"Hola, Python!\"\n",
        "#TODO"
      ],
      "metadata": {
        "id": "SqOvEveO88a6"
      },
      "execution_count": null,
      "outputs": []
    },
    {
      "cell_type": "markdown",
      "source": [
        "### Ejercicio 17: Encontrar el Número Mayor en una Lista\n",
        "Escribe un programa que encuentre el número mayor en una lista."
      ],
      "metadata": {
        "id": "kLf39a0m9FsM"
      }
    },
    {
      "cell_type": "code",
      "source": [
        "numeros = [3, 5, 7, 2, 8, 1]\n",
        "mayor = numeros[0]\n",
        "\n",
        "for # TODO\n",
        "\n",
        "print(\"El número mayor en la lista es:\", mayor)"
      ],
      "metadata": {
        "id": "-SCTgrrF9KU0"
      },
      "execution_count": null,
      "outputs": []
    },
    {
      "cell_type": "markdown",
      "source": [
        "### Ejercicio 18: Convertir Cadena a Mayúsculas\n",
        "\n",
        "Escribe un programa que convierta todos los caractes de una cadena en mayusculas."
      ],
      "metadata": {
        "id": "blHOjUDv-INB"
      }
    },
    {
      "cell_type": "code",
      "source": [
        "cadena = input(\"Introduce una cadena de texto: \")\n",
        "cadena_mayusculas = \"\"\n",
        "\n",
        "for # TODO\n",
        "\n",
        "\n",
        "print(\"La cadena en mayúsculas es:\", cadena_mayusculas)\n"
      ],
      "metadata": {
        "id": "jjTN8gsH-TRl"
      },
      "execution_count": null,
      "outputs": []
    }
  ],
  "metadata": {
    "colab": {
      "collapsed_sections": [
        "d622SwXlKCy5",
        "JczWSIBxKaQA",
        "T6WdhUVEYJY-",
        "3Y_HZ8Vc_Lzt"
      ],
      "provenance": [],
      "include_colab_link": true
    },
    "kernelspec": {
      "display_name": "Python 3",
      "name": "python3"
    },
    "language_info": {
      "name": "python"
    }
  },
  "nbformat": 4,
  "nbformat_minor": 0
}